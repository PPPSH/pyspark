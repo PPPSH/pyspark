{
 "cells": [
  {
   "cell_type": "code",
   "execution_count": 3,
   "id": "8775c07b-be4c-45a4-9135-8f3a4dcf2665",
   "metadata": {},
   "outputs": [
    {
     "name": "stdout",
     "output_type": "stream",
     "text": [
      "1243\n"
     ]
    }
   ],
   "source": [
    "print(1243)"
   ]
  },
  {
   "cell_type": "code",
   "execution_count": 4,
   "id": "ed0c0124-3469-4bc3-967e-19ebc9805905",
   "metadata": {},
   "outputs": [
    {
     "name": "stdout",
     "output_type": "stream",
     "text": [
      "Oracle 데이터베이스 연결 성공!\n"
     ]
    }
   ],
   "source": [
    "from pyspark.sql import SparkSession\n",
    "\n",
    "spark = SparkSession.builder \\\n",
    "    .appName(\"PySpark Oracle Connection\").config(\"spark.driver.extraClassPath\", \"/home/jovyan/work/ojdbc8.jar\") \\\n",
    "    .getOrCreate()\n",
    "\n",
    "try:\n",
    "    url = \"jdbc:oracle:thin:@host.docker.internal:1521/xe\"\n",
    "    connection = spark._jvm.java.sql.DriverManager.getConnection(url, \"pppsh\", \"1234\")\n",
    "    print(\"Oracle 데이터베이스 연결 성공!\")\n",
    "    connection.close()\n",
    "except Exception as e:\n",
    "    print(\"Oracle 데이터베이스 연결 실패:\", e)\n",
    "finally:\n",
    "    spark.stop()"
   ]
  },
  {
   "cell_type": "markdown",
   "id": "636f2bda-cf87-4058-aedf-08a134567476",
   "metadata": {},
   "source": [
    "# Table 불러오기"
   ]
  },
  {
   "cell_type": "code",
   "execution_count": 24,
   "id": "5d9a4a04-6a5a-455e-b2ed-2dba503fb84b",
   "metadata": {},
   "outputs": [
    {
     "name": "stdout",
     "output_type": "stream",
     "text": [
      "+-------------+----------+---------+--------------------+------------+-------------------+----------+--------+-------------+\n",
      "|  EMPLOYEE_ID|FIRST_NAME|LAST_NAME|               EMAIL|PHONE_NUMBER|          HIRE_DATE|    JOB_ID|  SALARY|DEPARTMENT_ID|\n",
      "+-------------+----------+---------+--------------------+------------+-------------------+----------+--------+-------------+\n",
      "| 1.0000000000|      John|      Doe|john.doe@example.com|515.123.4567|2003-06-17 00:00:00|   IT_PROG| 4800.00|           60|\n",
      "| 2.0000000000|      Jane|    Smith|jane.smith@exampl...|515.123.4568|2005-09-21 00:00:00|AC_ACCOUNT| 8300.00|           10|\n",
      "| 4.0000000000|     Emily|    Brown|emily.brown@examp...|515.123.4570|2007-01-24 00:00:00|  ST_CLERK| 2500.00|           50|\n",
      "| 3.0000000000|   Michael|  Johnson| michael@example.com|515.123.4569|2006-02-13 00:00:00|    SA_REP| 6000.00|           80|\n",
      "| 5.0000000000|     David|      Lee|david.lee@example...|515.123.4571|2008-03-12 00:00:00|    MK_MAN|13000.00|           20|\n",
      "| 6.0000000000|    Olivia|    Davis|olivia.davis@exam...|515.123.4572|2009-05-05 00:00:00|FI_ACCOUNT| 7900.00|          100|\n",
      "| 7.0000000000|    Daniel|   Wilson|daniel.wilson@exa...|515.123.4573|2010-06-10 00:00:00|   AD_PRES|24000.00|           90|\n",
      "| 8.0000000000|    Sophia|   Taylor|sophia.taylor@exa...|515.123.4574|2011-07-07 00:00:00|    HR_REP| 6500.00|           40|\n",
      "|10.0000000000|       Ava| Anderson|ava.anderson@exam...|515.123.4576|2013-09-09 00:00:00|  PU_CLERK| 3100.00|           30|\n",
      "| 9.0000000000|   William|   Martin|  martin@example.com|515.123.4575|2012-08-08 00:00:00|    PR_REP| 7000.00|           70|\n",
      "+-------------+----------+---------+--------------------+------------+-------------------+----------+--------+-------------+\n",
      "\n"
     ]
    }
   ],
   "source": [
    "from pyspark.sql import SparkSession\n",
    "\n",
    "\n",
    "spark = SparkSession.builder \\\n",
    "    .appName(\"PySpark Oracle Connection\").config(\"spark.driver.extraClassPath\", \"/home/jovyan/work/ojdbc11.jar\") \\\n",
    "    .getOrCreate()\n",
    "\n",
    "url = \"jdbc:oracle:thin:@host.docker.internal:1521/xe\"\n",
    "user = \"pppsh\"\n",
    "password = \"1234\"\n",
    "table = \"pppsh.employees\"\n",
    "\n",
    "df = spark.read.format(\"jdbc\") \\\n",
    "    .option(\"url\", url) \\\n",
    "    .option(\"dbtable\", table) \\\n",
    "    .option(\"user\", user) \\\n",
    "    .option(\"password\", password) \\\n",
    "    .load()\n",
    "\n",
    "df.show()\n"
   ]
  },
  {
   "cell_type": "markdown",
   "id": "0f7b670d-808b-4fb1-918b-91a311bae61a",
   "metadata": {},
   "source": [
    "# 테이블 insert"
   ]
  },
  {
   "cell_type": "code",
   "execution_count": 62,
   "id": "64980673-2a31-473e-91a9-0435a6ff4a0f",
   "metadata": {},
   "outputs": [],
   "source": [
    "from pyspark.sql import (\n",
    "    functions as f,\n",
    "    SparkSession,\n",
    "    types as t\n",
    ")\n",
    "\n",
    "# Attribution 3.0 Unported (CC BY 3.0)\n",
    "# https://www.kaggle.com/datasets/csanhueza/the-marvel-universe-social-network\n",
    "\n",
    "spark = SparkSession.builder.appName(\"df_most_popular\").getOrCreate()\n",
    "csv_file_path = \"file:///home/jovyan/work/sample/hero-network.csv\"\n",
    "# read file\n",
    "df = spark.read\\\n",
    "            .option(\"header\", \"true\")\\\n",
    "            .option(\"inferSchema\", \"true\").csv(csv_file_path)"
   ]
  },
  {
   "cell_type": "code",
   "execution_count": 67,
   "id": "7f73de63-a016-4724-8424-f04e483c7c62",
   "metadata": {},
   "outputs": [
    {
     "name": "stdout",
     "output_type": "stream",
     "text": [
      "+--------------------+--------------------+----+\n",
      "|               hero1|               hero2| idx|\n",
      "+--------------------+--------------------+----+\n",
      "|       LITTLE, ABNER|      PRINCESS ZANDA|79.0|\n",
      "|       LITTLE, ABNER|BLACK PANTHER/T'CHAL|83.0|\n",
      "|BLACK PANTHER/T'CHAL|      PRINCESS ZANDA|20.0|\n",
      "|       LITTLE, ABNER|      PRINCESS ZANDA|33.0|\n",
      "|       LITTLE, ABNER|BLACK PANTHER/T'CHAL| 1.0|\n",
      "|BLACK PANTHER/T'CHAL|      PRINCESS ZANDA|34.0|\n",
      "|STEELE, SIMON/WOLFGA|    FORTUNE, DOMINIC|97.0|\n",
      "|STEELE, SIMON/WOLFGA| ERWIN, CLYTEMNESTRA|70.0|\n",
      "|STEELE, SIMON/WOLFGA|IRON MAN/TONY STARK |72.0|\n",
      "|STEELE, SIMON/WOLFGA|IRON MAN IV/JAMES R.| 3.0|\n",
      "|STEELE, SIMON/WOLFGA|RAVEN, SABBATH II/EL|90.0|\n",
      "|RAVEN, SABBATH II/EL|    FORTUNE, DOMINIC| 8.0|\n",
      "|RAVEN, SABBATH II/EL| ERWIN, CLYTEMNESTRA|76.0|\n",
      "|RAVEN, SABBATH II/EL|IRON MAN/TONY STARK |39.0|\n",
      "|RAVEN, SABBATH II/EL|IRON MAN IV/JAMES R.|46.0|\n",
      "|IRON MAN IV/JAMES R.|    FORTUNE, DOMINIC|80.0|\n",
      "|IRON MAN IV/JAMES R.| ERWIN, CLYTEMNESTRA|35.0|\n",
      "|IRON MAN IV/JAMES R.|IRON MAN/TONY STARK |69.0|\n",
      "|IRON MAN/TONY STARK |    FORTUNE, DOMINIC|23.0|\n",
      "|IRON MAN/TONY STARK | ERWIN, CLYTEMNESTRA|19.0|\n",
      "+--------------------+--------------------+----+\n",
      "only showing top 20 rows\n",
      "\n"
     ]
    }
   ],
   "source": [
    "from pyspark.sql.functions import rand, round\n",
    "\n",
    "df2 = df.withColumn(\"idx\", round(rand() * 99) + 1)\n",
    "df2.show()"
   ]
  },
  {
   "cell_type": "code",
   "execution_count": 68,
   "id": "4962b791-0d34-424d-9891-68222171e841",
   "metadata": {},
   "outputs": [],
   "source": [
    "\n",
    "url = \"jdbc:oracle:thin:@host.docker.internal:1521/xe\"\n",
    "user = \"pppsh\"\n",
    "password = \"1234\"\n",
    "\n",
    "\n",
    "# JDBC 연결 정보 설정\n",
    "url = \"jdbc:oracle:thin:@host.docker.internal:1521/xe\"\n",
    "properties = {\n",
    "    \"user\": user,\n",
    "    \"password\": password,\n",
    "    \"driver\": \"oracle.jdbc.driver.OracleDriver\"\n",
    "}\n",
    "\n",
    "\n",
    "\n",
    "# 새로운 테이블 이름 지정\n",
    "new_table_name = \"pppsh.test_table\"  # 원하는 테이블 이름으로 변경\n",
    "\n",
    "\n",
    "# DataFrame을 데이터베이스 테이블에 저장 (테이블 자동 생성)\n",
    "df2.write.jdbc(\n",
    "    url=url, \n",
    "    table=new_table_name, \n",
    "    mode=\"overwrite\", \n",
    "    properties=properties, \n",
    ")"
   ]
  },
  {
   "cell_type": "code",
   "execution_count": 64,
   "id": "b870f8e3-896a-4245-875b-8ef4120f4312",
   "metadata": {},
   "outputs": [],
   "source": []
  },
  {
   "cell_type": "code",
   "execution_count": 65,
   "id": "447fcbda-4159-4180-8bbc-07dd7316d1c3",
   "metadata": {},
   "outputs": [
    {
     "name": "stdout",
     "output_type": "stream",
     "text": [
      "+--------------------+--------------------+----+\n",
      "|               hero1|               hero2| idx|\n",
      "+--------------------+--------------------+----+\n",
      "|       LITTLE, ABNER|      PRINCESS ZANDA|28.0|\n",
      "|       LITTLE, ABNER|BLACK PANTHER/T'CHAL|19.0|\n",
      "|BLACK PANTHER/T'CHAL|      PRINCESS ZANDA|32.0|\n",
      "|       LITTLE, ABNER|      PRINCESS ZANDA|21.0|\n",
      "|       LITTLE, ABNER|BLACK PANTHER/T'CHAL|44.0|\n",
      "|BLACK PANTHER/T'CHAL|      PRINCESS ZANDA|51.0|\n",
      "|STEELE, SIMON/WOLFGA|    FORTUNE, DOMINIC|33.0|\n",
      "|STEELE, SIMON/WOLFGA| ERWIN, CLYTEMNESTRA|28.0|\n",
      "|STEELE, SIMON/WOLFGA|IRON MAN/TONY STARK |83.0|\n",
      "|STEELE, SIMON/WOLFGA|IRON MAN IV/JAMES R.|69.0|\n",
      "|STEELE, SIMON/WOLFGA|RAVEN, SABBATH II/EL|76.0|\n",
      "|RAVEN, SABBATH II/EL|    FORTUNE, DOMINIC|54.0|\n",
      "|RAVEN, SABBATH II/EL| ERWIN, CLYTEMNESTRA| 8.0|\n",
      "|RAVEN, SABBATH II/EL|IRON MAN/TONY STARK |66.0|\n",
      "|RAVEN, SABBATH II/EL|IRON MAN IV/JAMES R.|67.0|\n",
      "|IRON MAN IV/JAMES R.|    FORTUNE, DOMINIC|81.0|\n",
      "|IRON MAN IV/JAMES R.| ERWIN, CLYTEMNESTRA|72.0|\n",
      "|IRON MAN IV/JAMES R.|IRON MAN/TONY STARK |59.0|\n",
      "|IRON MAN/TONY STARK |    FORTUNE, DOMINIC|83.0|\n",
      "|IRON MAN/TONY STARK | ERWIN, CLYTEMNESTRA|88.0|\n",
      "+--------------------+--------------------+----+\n",
      "only showing top 20 rows\n",
      "\n"
     ]
    }
   ],
   "source": [
    "df2.show()"
   ]
  },
  {
   "cell_type": "markdown",
   "id": "c4229d51-49d6-45e4-ab27-1ef7d62fc567",
   "metadata": {},
   "source": [
    "# 대용량 파티션 나눠서 불러오기 "
   ]
  },
  {
   "cell_type": "code",
   "execution_count": 71,
   "id": "fdfcfc58-f335-4a60-9882-bd7a4fc870f8",
   "metadata": {},
   "outputs": [],
   "source": [
    "from pyspark.sql import SparkSession\n",
    "\n",
    "\n",
    "spark = SparkSession.builder \\\n",
    "    .appName(\"PySpark Oracle Connection\").config(\"spark.driver.extraClassPath\", \"/home/jovyan/work/ojdbc11.jar\") \\\n",
    "    .getOrCreate()\n",
    "\n",
    "\n",
    "url = \"jdbc:oracle:thin:@host.docker.internal:1521/xe\"\n",
    "user = \"pppsh\"\n",
    "password = \"1234\"\n",
    "\n",
    "\n",
    "# JDBC 연결 정보 설정\n",
    "url = url\n",
    "properties = {\n",
    "    \"user\": user,\n",
    "    \"password\": password,\n",
    "    \"driver\": \"oracle.jdbc.driver.OracleDriver\"\n",
    "}\n",
    "\n",
    "table = \"pppsh.test_table\"\n",
    "\n",
    "# df = spark.read.format(\"jdbc\") \\\n",
    "#     .option(\"url\", url) \\\n",
    "#     .option(\"dbtable\", table) \\\n",
    "#     .option(\"user\", user) \\\n",
    "#     .option(\"password\", password) \\\n",
    "#     .load()\n",
    "\n",
    "# df.show()\n",
    "\n",
    "df = spark.read.format(\"jdbc\").option(\"url\", url) \\\n",
    "    .option(\"dbtable\", table)\\\n",
    "    .option(\"user\", user)\\\n",
    "    .option(\"password\", password)\\\n",
    "    .option(\"partitionColumn\", \"idx\")\\\n",
    "    .option(\"lowerBound\", 1)\\\n",
    "    .option(\"upperBound\", 1000000)\\\n",
    "    .option(\"numPartitions\", 10)\\\n",
    "    .option(\"fetchsize\", 10000).load()"
   ]
  },
  {
   "cell_type": "code",
   "execution_count": 72,
   "id": "8b497885-4546-491f-8653-a9b3193cecd4",
   "metadata": {},
   "outputs": [
    {
     "name": "stdout",
     "output_type": "stream",
     "text": [
      "10\n"
     ]
    }
   ],
   "source": [
    "print(df.rdd.getNumPartitions())"
   ]
  },
  {
   "cell_type": "code",
   "execution_count": null,
   "id": "3f270cbd-c7e0-4f51-a69d-a4c21a2fbf44",
   "metadata": {},
   "outputs": [],
   "source": []
  },
  {
   "cell_type": "code",
   "execution_count": null,
   "id": "25c2ed54-6a62-4793-a257-9b4c74076929",
   "metadata": {},
   "outputs": [],
   "source": []
  }
 ],
 "metadata": {
  "kernelspec": {
   "display_name": "Python 3 (ipykernel)",
   "language": "python",
   "name": "python3"
  },
  "language_info": {
   "codemirror_mode": {
    "name": "ipython",
    "version": 3
   },
   "file_extension": ".py",
   "mimetype": "text/x-python",
   "name": "python",
   "nbconvert_exporter": "python",
   "pygments_lexer": "ipython3",
   "version": "3.11.6"
  }
 },
 "nbformat": 4,
 "nbformat_minor": 5
}
