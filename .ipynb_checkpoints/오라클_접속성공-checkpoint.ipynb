{
 "cells": [
  {
   "cell_type": "code",
   "execution_count": 1,
   "id": "8775c07b-be4c-45a4-9135-8f3a4dcf2665",
   "metadata": {},
   "outputs": [
    {
     "name": "stdout",
     "output_type": "stream",
     "text": [
      "123\n"
     ]
    }
   ],
   "source": [
    "print(123)"
   ]
  },
  {
   "cell_type": "code",
   "execution_count": 2,
   "id": "ed0c0124-3469-4bc3-967e-19ebc9805905",
   "metadata": {},
   "outputs": [
    {
     "name": "stdout",
     "output_type": "stream",
     "text": [
      "Oracle 데이터베이스 연결 성공!\n"
     ]
    }
   ],
   "source": [
    "from pyspark.sql import SparkSession\n",
    "\n",
    "spark = SparkSession.builder \\\n",
    "    .appName(\"PySpark Oracle Connection\").config(\"spark.driver.extraClassPath\", \"/home/jovyan/work/ojdbc8.jar\") \\\n",
    "    .getOrCreate()\n",
    "\n",
    "try:\n",
    "    url = \"jdbc:oracle:thin:@host.docker.internal:1521/xe\"\n",
    "    connection = spark._jvm.java.sql.DriverManager.getConnection(url, \"pppsh\", \"1234\")\n",
    "    print(\"Oracle 데이터베이스 연결 성공!\")\n",
    "    connection.close()\n",
    "except Exception as e:\n",
    "    print(\"Oracle 데이터베이스 연결 실패:\", e)\n",
    "finally:\n",
    "    spark.stop()"
   ]
  },
  {
   "cell_type": "code",
   "execution_count": 4,
   "id": "5d9a4a04-6a5a-455e-b2ed-2dba503fb84b",
   "metadata": {},
   "outputs": [
    {
     "name": "stdout",
     "output_type": "stream",
     "text": [
      "+-------------+----------+---------+--------------------+------------+-------------------+----------+--------+-------------+\n",
      "|  EMPLOYEE_ID|FIRST_NAME|LAST_NAME|               EMAIL|PHONE_NUMBER|          HIRE_DATE|    JOB_ID|  SALARY|DEPARTMENT_ID|\n",
      "+-------------+----------+---------+--------------------+------------+-------------------+----------+--------+-------------+\n",
      "| 1.0000000000|      John|      Doe|john.doe@example.com|515.123.4567|2003-06-17 00:00:00|   IT_PROG| 4800.00|           60|\n",
      "| 2.0000000000|      Jane|    Smith|jane.smith@exampl...|515.123.4568|2005-09-21 00:00:00|AC_ACCOUNT| 8300.00|           10|\n",
      "| 4.0000000000|     Emily|    Brown|emily.brown@examp...|515.123.4570|2007-01-24 00:00:00|  ST_CLERK| 2500.00|           50|\n",
      "| 3.0000000000|   Michael|  Johnson| michael@example.com|515.123.4569|2006-02-13 00:00:00|    SA_REP| 6000.00|           80|\n",
      "| 5.0000000000|     David|      Lee|david.lee@example...|515.123.4571|2008-03-12 00:00:00|    MK_MAN|13000.00|           20|\n",
      "| 6.0000000000|    Olivia|    Davis|olivia.davis@exam...|515.123.4572|2009-05-05 00:00:00|FI_ACCOUNT| 7900.00|          100|\n",
      "| 7.0000000000|    Daniel|   Wilson|daniel.wilson@exa...|515.123.4573|2010-06-10 00:00:00|   AD_PRES|24000.00|           90|\n",
      "| 8.0000000000|    Sophia|   Taylor|sophia.taylor@exa...|515.123.4574|2011-07-07 00:00:00|    HR_REP| 6500.00|           40|\n",
      "|10.0000000000|       Ava| Anderson|ava.anderson@exam...|515.123.4576|2013-09-09 00:00:00|  PU_CLERK| 3100.00|           30|\n",
      "| 9.0000000000|   William|   Martin|  martin@example.com|515.123.4575|2012-08-08 00:00:00|    PR_REP| 7000.00|           70|\n",
      "+-------------+----------+---------+--------------------+------------+-------------------+----------+--------+-------------+\n",
      "\n"
     ]
    }
   ],
   "source": [
    "from pyspark.sql import SparkSession\n",
    "\n",
    "\n",
    "spark = SparkSession.builder \\\n",
    "    .appName(\"PySpark Oracle Connection\").config(\"spark.driver.extraClassPath\", \"/home/jovyan/work/ojdbc8.jar\") \\\n",
    "    .getOrCreate()\n",
    "\n",
    "url = \"jdbc:oracle:thin:@host.docker.internal:1521/xe\"\n",
    "user = \"pppsh\"\n",
    "password = \"1234\"\n",
    "table = \"pppsh.employees\"\n",
    "\n",
    "df = spark.read.format(\"jdbc\") \\\n",
    "    .option(\"url\", url) \\\n",
    "    .option(\"dbtable\", table) \\\n",
    "    .option(\"user\", user) \\\n",
    "    .option(\"password\", password) \\\n",
    "    .load()\n",
    "\n",
    "df.show()\n"
   ]
  },
  {
   "cell_type": "code",
   "execution_count": null,
   "id": "e4988737-a20b-4ede-b736-af88cff1a2e0",
   "metadata": {},
   "outputs": [],
   "source": []
  }
 ],
 "metadata": {
  "kernelspec": {
   "display_name": "Python 3 (ipykernel)",
   "language": "python",
   "name": "python3"
  },
  "language_info": {
   "codemirror_mode": {
    "name": "ipython",
    "version": 3
   },
   "file_extension": ".py",
   "mimetype": "text/x-python",
   "name": "python",
   "nbconvert_exporter": "python",
   "pygments_lexer": "ipython3",
   "version": "3.11.6"
  }
 },
 "nbformat": 4,
 "nbformat_minor": 5
}
