{
 "cells": [
  {
   "cell_type": "code",
   "execution_count": 8,
   "id": "1e7f900b-2cc2-4b20-a55e-e32e9db43c73",
   "metadata": {},
   "outputs": [],
   "source": [
    "import pyspark\n",
    "from pyspark.sql import (\n",
    "    functions as f,\n",
    "    SparkSession,\n",
    "    types as t\n",
    ")\n",
    "\n",
    "conf = pyspark.SparkConf().setAll([('spark.sql.optimizer.dynamicPartitionPruning.enabled', 'true')])\n",
    "spark = SparkSession.builder.appName(\"partition_pruning\").config(conf=conf).getOrCreate()\n",
    "\n",
    "table_schema = t.StructType([\n",
    "    t.StructField(\"date\", t.StringType(), True),\n",
    "    t.StructField(\"name\", t.StringType(), True),\n",
    "    t.StructField(\"region\", t.IntegerType(), True),\n",
    "    t.StructField(\"price\", t.IntegerType(), True)])\n",
    "\n",
    "csv_file_path = \"file:///home/jovyan/work/sample/ecommerce_order.csv\"\n",
    "df = spark.read.schema(table_schema).csv(csv_file_path)"
   ]
  },
  {
   "cell_type": "code",
   "execution_count": 10,
   "id": "8876cbe3-2fde-44d9-b5d1-4810a4ae0a0a",
   "metadata": {},
   "outputs": [],
   "source": [
    "# write the file with the partition\n",
    "df.write.partitionBy(\"region\").mode(\"overwrite\").parquet(\"/home/jovyan/work/output/partition_pruning\")\n"
   ]
  },
  {
   "cell_type": "code",
   "execution_count": 22,
   "id": "8562dc81-e5c9-4808-8323-0580a5f2a1bb",
   "metadata": {},
   "outputs": [],
   "source": [
    "read_df = spark.read.parquet(\"/home/jovyan/work/output/partition_pruning\")\n",
    "sales_total_df = read_df.where(\"region==2\").agg(f.round(f.sum(\"price\"),2).alias(\"sales\"))"
   ]
  },
  {
   "cell_type": "code",
   "execution_count": 23,
   "id": "66348a22-b713-44a1-919d-8e7e7ea68d87",
   "metadata": {},
   "outputs": [
    {
     "name": "stdout",
     "output_type": "stream",
     "text": [
      "== Physical Plan ==\n",
      "AdaptiveSparkPlan (6)\n",
      "+- HashAggregate (5)\n",
      "   +- Exchange (4)\n",
      "      +- HashAggregate (3)\n",
      "         +- Project (2)\n",
      "            +- Scan parquet  (1)\n",
      "\n",
      "\n",
      "(1) Scan parquet \n",
      "Output [2]: [price#230, region#231]\n",
      "Batched: true\n",
      "Location: InMemoryFileIndex [file:/home/jovyan/work/output/partition_pruning]\n",
      "PartitionFilters: [isnotnull(region#231), (region#231 = 2)]\n",
      "ReadSchema: struct<price:int>\n",
      "\n",
      "(2) Project\n",
      "Output [1]: [price#230]\n",
      "Input [2]: [price#230, region#231]\n",
      "\n",
      "(3) HashAggregate\n",
      "Input [1]: [price#230]\n",
      "Keys: []\n",
      "Functions [1]: [partial_sum(price#230)]\n",
      "Aggregate Attributes [1]: [sum#244L]\n",
      "Results [1]: [sum#245L]\n",
      "\n",
      "(4) Exchange\n",
      "Input [1]: [sum#245L]\n",
      "Arguments: SinglePartition, ENSURE_REQUIREMENTS, [plan_id=187]\n",
      "\n",
      "(5) HashAggregate\n",
      "Input [1]: [sum#245L]\n",
      "Keys: []\n",
      "Functions [1]: [sum(price#230)]\n",
      "Aggregate Attributes [1]: [sum(price#230)#237L]\n",
      "Results [1]: [round(sum(price#230)#237L, 2) AS sales#238L]\n",
      "\n",
      "(6) AdaptiveSparkPlan\n",
      "Output [1]: [sales#238L]\n",
      "Arguments: isFinalPlan=false\n",
      "\n",
      "\n"
     ]
    }
   ],
   "source": [
    "sales_total_df.explain(mode=\"formatted\")"
   ]
  },
  {
   "cell_type": "code",
   "execution_count": null,
   "id": "7f375a14-65e6-4214-b102-105250deef10",
   "metadata": {},
   "outputs": [],
   "source": []
  }
 ],
 "metadata": {
  "kernelspec": {
   "display_name": "Python 3 (ipykernel)",
   "language": "python",
   "name": "python3"
  },
  "language_info": {
   "codemirror_mode": {
    "name": "ipython",
    "version": 3
   },
   "file_extension": ".py",
   "mimetype": "text/x-python",
   "name": "python",
   "nbconvert_exporter": "python",
   "pygments_lexer": "ipython3",
   "version": "3.11.6"
  }
 },
 "nbformat": 4,
 "nbformat_minor": 5
}
