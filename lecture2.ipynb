{
 "cells": [
  {
   "cell_type": "code",
   "execution_count": 1,
   "id": "da2d37f6-b8f9-4c36-8ae7-388af095ba06",
   "metadata": {},
   "outputs": [
    {
     "name": "stdout",
     "output_type": "stream",
     "text": [
      "[('hello', 5), ('world', 5)]\n"
     ]
    }
   ],
   "source": [
    "import pyspark\n",
    "\n",
    "test_file = \"file:///home/jovyan/work/sample/word.txt\"\n",
    "# sc = pyspark.SparkContext('local[*]')\n",
    "sc = pyspark.SparkContext.getOrCreate()\n",
    "\n",
    "text_file = sc.textFile(test_file)\n",
    "\n",
    "counts = text_file.flatMap(lambda line: line.split(\" \")) \\\n",
    "             .map(lambda word: (word, 1)) \\\n",
    "             .reduceByKey(lambda a, b: a + b)\n",
    "\n",
    "print(counts.collect())"
   ]
  },
  {
   "cell_type": "code",
   "execution_count": 2,
   "id": "34eb9cee-9358-486d-87e7-ff2aece53271",
   "metadata": {},
   "outputs": [
    {
     "name": "stdout",
     "output_type": "stream",
     "text": [
      "['hello', 'world', 'hello', 'world', 'hello', 'world', 'hello', 'world', 'hello', 'world']\n"
     ]
    }
   ],
   "source": [
    "counts = text_file.flatMap(lambda line: line.split(\" \"))\n",
    "print(counts.collect())"
   ]
  },
  {
   "cell_type": "code",
   "execution_count": 3,
   "id": "a6f4893a-7f79-408f-bd0c-dbf69349a77e",
   "metadata": {},
   "outputs": [
    {
     "name": "stdout",
     "output_type": "stream",
     "text": [
      "[('hello', 1), ('world', 1), ('hello', 1), ('world', 1), ('hello', 1), ('world', 1), ('hello', 1), ('world', 1), ('hello', 1), ('world', 1)]\n"
     ]
    }
   ],
   "source": [
    "pair = counts.map(lambda word: (word, 1))\n",
    "print(pair.collect())"
   ]
  },
  {
   "cell_type": "code",
   "execution_count": null,
   "id": "cb2d95c0-9079-450a-86aa-c98b2300c3e4",
   "metadata": {},
   "outputs": [],
   "source": [
    "\n",
    "pair = counts.map(lambda word: (word, 1))\n",
    "print(pair.collect())"
   ]
  },
  {
   "cell_type": "code",
   "execution_count": 5,
   "id": "d212c33d-aa3c-45ca-8bfb-c7730c2ef5a5",
   "metadata": {},
   "outputs": [
    {
     "data": {
      "text/plain": [
       "[('hello', 5), ('world', 5)]"
      ]
     },
     "execution_count": 5,
     "metadata": {},
     "output_type": "execute_result"
    }
   ],
   "source": [
    "pair.reduceByKey(lambda a, b:a+b).collect()"
   ]
  },
  {
   "cell_type": "code",
   "execution_count": 6,
   "id": "ca78d086-905f-412b-9e90-05309fb45ae8",
   "metadata": {},
   "outputs": [
    {
     "data": {
      "text/plain": [
       "['hello',\n",
       " 'world',\n",
       " 'hello',\n",
       " 'world',\n",
       " 'hello',\n",
       " 'world',\n",
       " 'hello',\n",
       " 'world',\n",
       " 'hello',\n",
       " 'world']"
      ]
     },
     "execution_count": 6,
     "metadata": {},
     "output_type": "execute_result"
    }
   ],
   "source": [
    "counts.collect()"
   ]
  },
  {
   "cell_type": "code",
   "execution_count": null,
   "id": "c34df972-ae25-41e5-a323-fe66df328c03",
   "metadata": {},
   "outputs": [],
   "source": []
  }
 ],
 "metadata": {
  "kernelspec": {
   "display_name": "Python 3 (ipykernel)",
   "language": "python",
   "name": "python3"
  },
  "language_info": {
   "codemirror_mode": {
    "name": "ipython",
    "version": 3
   },
   "file_extension": ".py",
   "mimetype": "text/x-python",
   "name": "python",
   "nbconvert_exporter": "python",
   "pygments_lexer": "ipython3",
   "version": "3.11.6"
  },
  "vscode": {
   "interpreter": {
    "hash": "aee8b7b246df8f9039afb4144a1f6fd8d2ca17a180786b69acc140d282b71a49"
   }
  }
 },
 "nbformat": 4,
 "nbformat_minor": 5
}
