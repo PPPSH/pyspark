{
 "cells": [
  {
   "cell_type": "code",
   "execution_count": 2,
   "id": "b96753c9-14f0-4fce-96e9-89ac788b5af4",
   "metadata": {},
   "outputs": [
    {
     "data": {
      "text/plain": [
       "[('hello', 5), ('world', 5)]"
      ]
     },
     "execution_count": 2,
     "metadata": {},
     "output_type": "execute_result"
    }
   ],
   "source": [
    "import pyspark\n",
    "\n",
    "\n",
    "sc = pyspark.SparkContext.getOrCreate()\n",
    "test_file = \"file:///home/jovyan/work/sample/word.txt\"\n",
    "text_file = sc.textFile(test_file)\n",
    "\n",
    "lines = text_file.flatMap(lambda line : line.split(\" \")).map(lambda a : (a,1)).reduceByKey(lambda a, b : a+b)\n",
    "lines.collect()\n",
    "\n"
   ]
  },
  {
   "cell_type": "code",
   "execution_count": 12,
   "id": "3426d2f2-5ef3-4d30-845e-91df5562c686",
   "metadata": {},
   "outputs": [],
   "source": [
    "a = text_file.flatMap(lambda line : line.split(\" \")).map(lambda a : (a,1)).reduceByKey(lambda a, b : a+b)"
   ]
  },
  {
   "cell_type": "code",
   "execution_count": 13,
   "id": "2f76a3da-bdcb-4c68-a56d-e9846f735168",
   "metadata": {},
   "outputs": [
    {
     "name": "stdout",
     "output_type": "stream",
     "text": [
      "[('hello', 5), ('world', 5)]\n"
     ]
    }
   ],
   "source": [
    "print(a.collect())"
   ]
  },
  {
   "cell_type": "code",
   "execution_count": null,
   "id": "e24409ed-a644-4b4a-8b6b-40bd6944818b",
   "metadata": {},
   "outputs": [],
   "source": [
    "impo"
   ]
  },
  {
   "cell_type": "code",
   "execution_count": null,
   "id": "e8364aaa-8cea-43f6-be91-e3b9e391888f",
   "metadata": {},
   "outputs": [],
   "source": []
  },
  {
   "cell_type": "code",
   "execution_count": null,
   "id": "32d97d8d-d9d7-480d-8ad8-83daf0d366a6",
   "metadata": {},
   "outputs": [],
   "source": []
  },
  {
   "cell_type": "code",
   "execution_count": null,
   "id": "aea75202-3fbb-48c5-821b-e76d24ba0c0c",
   "metadata": {},
   "outputs": [],
   "source": []
  },
  {
   "cell_type": "code",
   "execution_count": null,
   "id": "66185e02-f2a2-457b-bdf4-c46bafc2da9e",
   "metadata": {},
   "outputs": [],
   "source": []
  },
  {
   "cell_type": "code",
   "execution_count": 24,
   "id": "7c8ca5c4-b1e6-47c4-9f95-2583550d8ee7",
   "metadata": {},
   "outputs": [
    {
     "data": {
      "text/plain": [
       "[('hello', 5), ('world', 5)]"
      ]
     },
     "execution_count": 24,
     "metadata": {},
     "output_type": "execute_result"
    }
   ],
   "source": [
    "import pyspark\n",
    "\n",
    "sc = pyspark.SparkContext.getOrCreate()\n",
    "test_file = \"file:///home/jovyan/work/sample/word.txt\"\n",
    "text_file = sc.textFile(test_file)\n",
    "\n",
    "lines = text_file.flatMap(lambda line :  line.split(\" \"))\n",
    "lines.map(lambda a : (a,1)).reduceByKey(lambda a,b : a + b).collect()\n"
   ]
  },
  {
   "cell_type": "code",
   "execution_count": 19,
   "id": "cf410dcb-2ff4-4c7c-b1df-07624e9aa77d",
   "metadata": {},
   "outputs": [
    {
     "data": {
      "text/plain": [
       "['hello',\n",
       " 'world',\n",
       " 'hello',\n",
       " 'world',\n",
       " 'hello',\n",
       " 'world',\n",
       " 'hello',\n",
       " 'world',\n",
       " 'hello',\n",
       " 'world']"
      ]
     },
     "execution_count": 19,
     "metadata": {},
     "output_type": "execute_result"
    }
   ],
   "source": [
    "lines.collect()"
   ]
  },
  {
   "cell_type": "code",
   "execution_count": null,
   "id": "304bdeed-07f5-427f-b2ea-fbdb3a261839",
   "metadata": {},
   "outputs": [],
   "source": []
  }
 ],
 "metadata": {
  "kernelspec": {
   "display_name": "Python 3 (ipykernel)",
   "language": "python",
   "name": "python3"
  },
  "language_info": {
   "codemirror_mode": {
    "name": "ipython",
    "version": 3
   },
   "file_extension": ".py",
   "mimetype": "text/x-python",
   "name": "python",
   "nbconvert_exporter": "python",
   "pygments_lexer": "ipython3",
   "version": "3.11.6"
  }
 },
 "nbformat": 4,
 "nbformat_minor": 5
}
