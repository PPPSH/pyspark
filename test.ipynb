{
 "cells": [
  {
   "cell_type": "code",
   "execution_count": 2,
   "id": "1e7f900b-2cc2-4b20-a55e-e32e9db43c73",
   "metadata": {},
   "outputs": [],
   "source": [
    "import pyspark\n",
    "from pyspark.sql import (\n",
    "    functions as f,\n",
    "    SparkSession,\n",
    "    types as t\n",
    ")\n",
    "\n",
    "conf = pyspark.SparkConf().setAll([('spark.sql.optimizer.dynamicPartitionPruning.enabled', 'true')])\n",
    "spark = SparkSession.builder.appName(\"partition_pruning11\").config(conf=conf).getOrCreate()\n",
    "\n",
    "table_schema = t.StructType([\n",
    "    t.StructField(\"date\", t.StringType(), True),\n",
    "    t.StructField(\"name\", t.StringType(), True),\n",
    "    t.StructField(\"region\", t.IntegerType(), True),\n",
    "    t.StructField(\"price\", t.IntegerType(), True)])\n",
    "\n",
    "csv_file_path = \"file:///home/jovyan/work/sample/ecommerce_order.csv\"\n",
    "df = spark.read.schema(table_schema).csv(csv_file_path)"
   ]
  },
  {
   "cell_type": "code",
   "execution_count": 3,
   "id": "8876cbe3-2fde-44d9-b5d1-4810a4ae0a0a",
   "metadata": {},
   "outputs": [],
   "source": [
    "# write the file with the partition\n",
    "df.write.partitionBy(\"region\").mode(\"overwrite\").parquet(\"/home/jovyan/work/output/partition_pruning\")\n"
   ]
  },
  {
   "cell_type": "code",
   "execution_count": 4,
   "id": "8562dc81-e5c9-4808-8323-0580a5f2a1bb",
   "metadata": {},
   "outputs": [],
   "source": [
    "read_df = spark.read.parquet(\"/home/jovyan/work/output/partition_pruning\")\n",
    "sales_total_df = read_df.where(\"region==2\").agg(f.round(f.sum(\"price\"),2).alias(\"sales\"))"
   ]
  },
  {
   "cell_type": "code",
   "execution_count": 5,
   "id": "66348a22-b713-44a1-919d-8e7e7ea68d87",
   "metadata": {},
   "outputs": [
    {
     "name": "stdout",
     "output_type": "stream",
     "text": [
      "== Physical Plan ==\n",
      "AdaptiveSparkPlan (6)\n",
      "+- HashAggregate (5)\n",
      "   +- Exchange (4)\n",
      "      +- HashAggregate (3)\n",
      "         +- Project (2)\n",
      "            +- Scan parquet  (1)\n",
      "\n",
      "\n",
      "(1) Scan parquet \n",
      "Output [2]: [price#27, region#28]\n",
      "Batched: true\n",
      "Location: InMemoryFileIndex [file:/home/jovyan/work/output/partition_pruning]\n",
      "PartitionFilters: [isnotnull(region#28), (region#28 = 2)]\n",
      "ReadSchema: struct<price:int>\n",
      "\n",
      "(2) Project\n",
      "Output [1]: [price#27]\n",
      "Input [2]: [price#27, region#28]\n",
      "\n",
      "(3) HashAggregate\n",
      "Input [1]: [price#27]\n",
      "Keys: []\n",
      "Functions [1]: [partial_sum(price#27)]\n",
      "Aggregate Attributes [1]: [sum#41L]\n",
      "Results [1]: [sum#42L]\n",
      "\n",
      "(4) Exchange\n",
      "Input [1]: [sum#42L]\n",
      "Arguments: SinglePartition, ENSURE_REQUIREMENTS, [plan_id=34]\n",
      "\n",
      "(5) HashAggregate\n",
      "Input [1]: [sum#42L]\n",
      "Keys: []\n",
      "Functions [1]: [sum(price#27)]\n",
      "Aggregate Attributes [1]: [sum(price#27)#34L]\n",
      "Results [1]: [round(sum(price#27)#34L, 2) AS sales#35L]\n",
      "\n",
      "(6) AdaptiveSparkPlan\n",
      "Output [1]: [sales#35L]\n",
      "Arguments: isFinalPlan=false\n",
      "\n",
      "\n"
     ]
    }
   ],
   "source": [
    "sales_total_df.explain(mode=\"formatted\")"
   ]
  },
  {
   "cell_type": "code",
   "execution_count": 7,
   "id": "7f375a14-65e6-4214-b102-105250deef10",
   "metadata": {},
   "outputs": [],
   "source": [
    "csv_file_path = \"file:///home/jovyan/work/sample/ecommerce_region.csv\"\n",
    "region_df = spark.read\\\n",
    "            .option(\"header\", \"true\")\\\n",
    "            .option(\"inferSchema\", \"true\")\\\n",
    "            .csv(csv_file_path)"
   ]
  },
  {
   "cell_type": "code",
   "execution_count": 9,
   "id": "f89e7aff-1216-46fa-b0ab-537adc53fc5b",
   "metadata": {},
   "outputs": [
    {
     "name": "stdout",
     "output_type": "stream",
     "text": [
      "+---------+-------------+\n",
      "|region_id|         city|\n",
      "+---------+-------------+\n",
      "|        1|San Francisco|\n",
      "|        2|  Los Angeles|\n",
      "|        3|      Seattle|\n",
      "|        4|    San Diego|\n",
      "|        5|     New York|\n",
      "+---------+-------------+\n",
      "\n"
     ]
    }
   ],
   "source": [
    "region_df.show()"
   ]
  },
  {
   "cell_type": "code",
   "execution_count": 12,
   "id": "b262be52-0d1e-4f50-ac2b-4ecb3fb52b33",
   "metadata": {},
   "outputs": [
    {
     "name": "stdout",
     "output_type": "stream",
     "text": [
      "+----------+----------------+-----+------+---------+-------------+\n",
      "|      date|            name|price|region|region_id|         city|\n",
      "+----------+----------------+-----+------+---------+-------------+\n",
      "|2022-04-03|    Tory Delgado| 2158|     1|        1|San Francisco|\n",
      "|2022-05-24|   Jene Franklin| 3643|     1|        1|San Francisco|\n",
      "|2022-05-28|     Kasey Wolfe| 1236|     1|        1|San Francisco|\n",
      "|2022-10-07|  Walton Kennedy| 2381|     1|        1|San Francisco|\n",
      "|2022-10-06|Lakiesha Jimenez| 2629|     1|        1|San Francisco|\n",
      "|2022-06-13| Piedad Williams| 1670|     1|        1|San Francisco|\n",
      "|2022-12-13|    Elvina Grant| 2459|     1|        1|San Francisco|\n",
      "|2022-10-27|   Cristie Stone| 3325|     1|        1|San Francisco|\n",
      "|2022-07-03|     Lacy Flores| 1013|     1|        1|San Francisco|\n",
      "|2022-01-01|   Kathey Little| 2293|     1|        1|San Francisco|\n",
      "|2022-04-13|        Fe Reyes| 2438|     1|        1|San Francisco|\n",
      "|2022-06-23|   Apryl Holland| 3003|     1|        1|San Francisco|\n",
      "|2022-07-13|  Doloris Farmer| 3471|     1|        1|San Francisco|\n",
      "|2022-07-12| Merrie Erickson| 3584|     1|        1|San Francisco|\n",
      "|2022-09-17|     Ilda Turner| 2068|     1|        1|San Francisco|\n",
      "|2022-03-20|   Porter Sutton| 1543|     1|        1|San Francisco|\n",
      "|2022-02-10|Garfield Gardner| 2425|     1|        1|San Francisco|\n",
      "|2022-07-25|      Janay Gill| 3621|     1|        1|San Francisco|\n",
      "|2022-01-11|   Benton Brooks| 1271|     1|        1|San Francisco|\n",
      "|2022-02-07|  Cleora Baldwin| 1126|     1|        1|San Francisco|\n",
      "+----------+----------------+-----+------+---------+-------------+\n",
      "only showing top 20 rows\n",
      "\n",
      "== Physical Plan ==\n",
      "AdaptiveSparkPlan (6)\n",
      "+- BroadcastHashJoin Inner BuildRight (5)\n",
      "   :- Scan parquet  (1)\n",
      "   +- BroadcastExchange (4)\n",
      "      +- Filter (3)\n",
      "         +- Scan csv  (2)\n",
      "\n",
      "\n",
      "(1) Scan parquet \n",
      "Output [4]: [date#50, name#51, price#52, region#53]\n",
      "Batched: true\n",
      "Location: InMemoryFileIndex [file:/home/jovyan/work/output/partition_pruning]\n",
      "PartitionFilters: [isnotnull(region#53), dynamicpruningexpression(region#53 IN dynamicpruning#222)]\n",
      "ReadSchema: struct<date:string,name:string,price:int>\n",
      "\n",
      "(2) Scan csv \n",
      "Output [2]: [region_id#83, city#84]\n",
      "Batched: false\n",
      "Location: InMemoryFileIndex [file:/home/jovyan/work/sample/ecommerce_region.csv]\n",
      "PushedFilters: [IsNotNull(city), EqualTo(city,San Francisco), IsNotNull(region_id)]\n",
      "ReadSchema: struct<region_id:int,city:string>\n",
      "\n",
      "(3) Filter\n",
      "Input [2]: [region_id#83, city#84]\n",
      "Condition : ((isnotnull(city#84) AND (city#84 = San Francisco)) AND isnotnull(region_id#83))\n",
      "\n",
      "(4) BroadcastExchange\n",
      "Input [2]: [region_id#83, city#84]\n",
      "Arguments: HashedRelationBroadcastMode(List(cast(input[0, int, false] as bigint)),false), [plan_id=425]\n",
      "\n",
      "(5) BroadcastHashJoin\n",
      "Left keys [1]: [region#53]\n",
      "Right keys [1]: [region_id#83]\n",
      "Join type: Inner\n",
      "Join condition: None\n",
      "\n",
      "(6) AdaptiveSparkPlan\n",
      "Output [6]: [date#50, name#51, price#52, region#53, region_id#83, city#84]\n",
      "Arguments: isFinalPlan=false\n",
      "\n",
      "===== Subqueries =====\n",
      "\n",
      "Subquery:1 Hosting operator id = 1 Hosting Expression = region#53 IN dynamicpruning#222\n",
      "AdaptiveSparkPlan (9)\n",
      "+- Filter (8)\n",
      "   +- Scan csv  (7)\n",
      "\n",
      "\n",
      "(7) Scan csv \n",
      "Output [2]: [region_id#83, city#84]\n",
      "Batched: false\n",
      "Location: InMemoryFileIndex [file:/home/jovyan/work/sample/ecommerce_region.csv]\n",
      "PushedFilters: [IsNotNull(city), EqualTo(city,San Francisco), IsNotNull(region_id)]\n",
      "ReadSchema: struct<region_id:int,city:string>\n",
      "\n",
      "(8) Filter\n",
      "Input [2]: [region_id#83, city#84]\n",
      "Condition : ((isnotnull(city#84) AND (city#84 = San Francisco)) AND isnotnull(region_id#83))\n",
      "\n",
      "(9) AdaptiveSparkPlan\n",
      "Output [2]: [region_id#83, city#84]\n",
      "Arguments: isFinalPlan=false\n",
      "\n",
      "\n",
      "\n"
     ]
    }
   ],
   "source": [
    "joined_df = read_df.join(region_df,read_df.region == region_df.region_id,\"inner\").where(region_df.city == \"San Francisco\")\n",
    "joined_df.show()\n",
    "joined_df.explain(mode=\"formatted\")"
   ]
  },
  {
   "cell_type": "code",
   "execution_count": null,
   "id": "3a889b16-f9d4-4922-b9ed-5b9dcac25267",
   "metadata": {},
   "outputs": [],
   "source": []
  }
 ],
 "metadata": {
  "kernelspec": {
   "display_name": "Python 3 (ipykernel)",
   "language": "python",
   "name": "python3"
  },
  "language_info": {
   "codemirror_mode": {
    "name": "ipython",
    "version": 3
   },
   "file_extension": ".py",
   "mimetype": "text/x-python",
   "name": "python",
   "nbconvert_exporter": "python",
   "pygments_lexer": "ipython3",
   "version": "3.11.6"
  }
 },
 "nbformat": 4,
 "nbformat_minor": 5
}
