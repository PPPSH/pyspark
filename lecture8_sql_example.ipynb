{
 "cells": [
  {
   "cell_type": "code",
   "execution_count": 25,
   "id": "b2627cb0-3f57-4528-8d85-47b19689a518",
   "metadata": {},
   "outputs": [
    {
     "name": "stdout",
     "output_type": "stream",
     "text": [
      "+--------------------+-----+\n",
      "|             country|count|\n",
      "+--------------------+-----+\n",
      "|           Australia|   10|\n",
      "|            Dominica|    9|\n",
      "|           Nicaragua|    9|\n",
      "|             Ecuador|    9|\n",
      "|              Kuwait|    9|\n",
      "|               Congo|    9|\n",
      "|            Thailand|    9|\n",
      "|          Madagascar|    9|\n",
      "|           Singapore|    9|\n",
      "|Virgin Islands, B...|    8|\n",
      "|              Zambia|    8|\n",
      "|  Dominican Republic|    8|\n",
      "|Sao Tome and Prin...|    8|\n",
      "|                Mali|    8|\n",
      "|             Senegal|    8|\n",
      "|             Belgium|    7|\n",
      "|Palestinian Terri...|    7|\n",
      "|             Lesotho|    7|\n",
      "|             Bolivia|    7|\n",
      "|         Isle of Man|    7|\n",
      "+--------------------+-----+\n",
      "only showing top 20 rows\n",
      "\n"
     ]
    }
   ],
   "source": [
    "from pyspark.sql import (\n",
    "    Row,\n",
    "    SparkSession)\n",
    "from pyspark.sql.functions import col, asc, desc\n",
    "\n",
    "def parse_line(line: str):\n",
    "    fields = line.split('|') # |\n",
    "    return Row(\n",
    "        name=str(fields[0]),\n",
    "        country=str(fields[1]),\n",
    "        email=str(fields[2]),\n",
    "        compensation=int(fields[3]))\n",
    "\n",
    "\n",
    "spark = SparkSession.builder.appName(\"SparkSQL\").getOrCreate()\n",
    "lines = spark.sparkContext.textFile(\"file:///home/jovyan/work/sample/income.txt\")\n",
    "income_data = lines.map(parse_line)\n",
    "\n",
    "# Creates a DataFrame from an RDD, a list or a pandas.DataFrame.\n",
    "# SparkSession.createDataFrame(data, schema=None, samplingRatio=None, verifySchema=True)[source]\n",
    "schema_income = spark.createDataFrame(data=income_data).cache()\n",
    "\n",
    "# Creates or replaces a local temporary view with this DataFrame.\n",
    "schema_income.createOrReplaceTempView(\"income\")\n",
    "\n",
    "# returns the dataframe\n",
    "medium_income_df = spark.sql(\n",
    "    \"SELECT * FROM income WHERE compensation >= 70000 AND compensation <= 100000\")\n",
    "# medium_income_df.show()\n",
    "\n",
    "# for income_data in medium_income_df.collect():\n",
    "#     # print(income_data)\n",
    "#     print(income_data.name)\n",
    "\n",
    "# # use function instead of sql function\n",
    "schema_income.groupBy(\"country\").count().orderBy(col(\"count\").desc()).show()\n"
   ]
  },
  {
   "cell_type": "code",
   "execution_count": null,
   "id": "e22f351e-aecc-4599-ad7f-49c04d9472c5",
   "metadata": {},
   "outputs": [],
   "source": []
  },
  {
   "cell_type": "code",
   "execution_count": null,
   "id": "b6957f85-7ab8-44a9-9322-8f9459ab8254",
   "metadata": {},
   "outputs": [],
   "source": []
  },
  {
   "cell_type": "code",
   "execution_count": 9,
   "id": "3644c10e-8aad-4b73-b505-2a58ddf6c2b0",
   "metadata": {},
   "outputs": [
    {
     "ename": "TypeError",
     "evalue": "'StructType' object is not callable",
     "output_type": "error",
     "traceback": [
      "\u001b[0;31m---------------------------------------------------------------------------\u001b[0m",
      "\u001b[0;31mTypeError\u001b[0m                                 Traceback (most recent call last)",
      "Cell \u001b[0;32mIn[9], line 21\u001b[0m\n\u001b[1;32m     18\u001b[0m col_lines \u001b[38;5;241m=\u001b[39m lines\u001b[38;5;241m.\u001b[39mmap(col_parse)\n\u001b[1;32m     19\u001b[0m df \u001b[38;5;241m=\u001b[39m spark\u001b[38;5;241m.\u001b[39mcreateDataFrame(data \u001b[38;5;241m=\u001b[39m col_lines)\u001b[38;5;241m.\u001b[39mcache()\n\u001b[0;32m---> 21\u001b[0m \u001b[38;5;28mprint\u001b[39m(\u001b[43mdf\u001b[49m\u001b[38;5;241;43m.\u001b[39;49m\u001b[43mschema\u001b[49m\u001b[43m(\u001b[49m\u001b[43m)\u001b[49m)\n\u001b[1;32m     23\u001b[0m df\u001b[38;5;241m.\u001b[39mcreateOrReplaceTempView(\u001b[38;5;124m\"\u001b[39m\u001b[38;5;124mincome\u001b[39m\u001b[38;5;124m\"\u001b[39m)\n\u001b[1;32m     25\u001b[0m re \u001b[38;5;241m=\u001b[39m spark\u001b[38;5;241m.\u001b[39msql(\n\u001b[1;32m     26\u001b[0m     \u001b[38;5;124m\"\u001b[39m\u001b[38;5;124mselect * from income \u001b[39m\u001b[38;5;124m\"\u001b[39m \n\u001b[1;32m     27\u001b[0m )\n",
      "\u001b[0;31mTypeError\u001b[0m: 'StructType' object is not callable"
     ]
    }
   ],
   "source": [
    "from pyspark.sql import Row, SparkSession\n",
    "from pyspark.sql.functions import col, asc, desc\n",
    "\n",
    "spark = SparkSession.builder.appName(\"test\").getOrCreate()\n",
    "test_file = (\"file:///home/jovyan/work/sample/income.txt\")\n",
    "lines = spark.sparkContext.textFile(test_file)\n",
    "\n",
    "\n",
    "def col_parse(line : str) :\n",
    "    col = line.split(\"|\")\n",
    "    return Row(\n",
    "        name = col[0],\n",
    "        city = col[1],\n",
    "        mail = col[2],\n",
    "        price = int(col[3])\n",
    "    )\n",
    "\n",
    "col_lines = lines.map(col_parse)\n",
    "df = spark.createDataFrame(data = col_lines).cache()\n",
    "\n",
    "df.schema()\n",
    "\n",
    "df.createOrReplaceTempView(\"income\")\n",
    "\n",
    "re = spark.sql(\n",
    "    \"select * from income \" \n",
    ")\n",
    "\n",
    "re.show()"
   ]
  },
  {
   "cell_type": "code",
   "execution_count": null,
   "id": "67e44a16-b8e4-47ed-b552-08ae03f76049",
   "metadata": {},
   "outputs": [],
   "source": [
    "\"file:///home/jovyan/work/sample/income.txt\""
   ]
  },
  {
   "cell_type": "code",
   "execution_count": 8,
   "id": "310f99c4-df8d-4405-aed3-d482f1a028b9",
   "metadata": {},
   "outputs": [
    {
     "name": "stdout",
     "output_type": "stream",
     "text": [
      "+-----------------+----------+--------------------+-----+\n",
      "|             name|   country|                mail|price|\n",
      "+-----------------+----------+--------------------+-----+\n",
      "|Walter Washington|Kazakhstan|mbilderbach@examp...|91072|\n",
      "+-----------------+----------+--------------------+-----+\n",
      "\n"
     ]
    }
   ],
   "source": [
    "from pyspark.sql import SparkSession, Row\n",
    "from pyspark.sql.functions import  asc, desc \n",
    "\n",
    "\n",
    "spark = SparkSession.builder.appName(\"sql_test\").getOrCreate()\n",
    "lines = spark.sparkContext.textFile(\"file:///home/jovyan/work/sample/income.txt\")\n",
    "\n",
    "def col_parse(line : str) :\n",
    "    col = line.split(\"|\")\n",
    "    return Row(\n",
    "        name = col[0],\n",
    "        country = col[1],\n",
    "        mail= col[2],\n",
    "        price = int(col[3]) )\n",
    "\n",
    "col_line = lines.map(col_parse)\n",
    "\n",
    "df = spark.createDataFrame(data = col_line).cache() \n",
    "df.createOrReplaceTempView(\"income\")\n",
    "\n",
    "spark.sql (\n",
    "    \"select * from income where price = 91072\"\n",
    ").show()\n",
    "\n",
    "\n",
    "\n",
    "\n"
   ]
  },
  {
   "cell_type": "code",
   "execution_count": null,
   "id": "0246de35-53e9-4e60-85c4-6a84ef4f4bb5",
   "metadata": {},
   "outputs": [],
   "source": []
  },
  {
   "cell_type": "code",
   "execution_count": 1,
   "id": "5c56abee-2856-4b63-b037-5398acf1c83c",
   "metadata": {},
   "outputs": [
    {
     "name": "stdout",
     "output_type": "stream",
     "text": [
      "123\n"
     ]
    }
   ],
   "source": [
    "print(123)"
   ]
  },
  {
   "cell_type": "code",
   "execution_count": null,
   "id": "909cfd9c-18fc-43c2-a047-0828bae1e121",
   "metadata": {},
   "outputs": [],
   "source": []
  }
 ],
 "metadata": {
  "kernelspec": {
   "display_name": "Python 3 (ipykernel)",
   "language": "python",
   "name": "python3"
  },
  "language_info": {
   "codemirror_mode": {
    "name": "ipython",
    "version": 3
   },
   "file_extension": ".py",
   "mimetype": "text/x-python",
   "name": "python",
   "nbconvert_exporter": "python",
   "pygments_lexer": "ipython3",
   "version": "3.11.6"
  },
  "vscode": {
   "interpreter": {
    "hash": "aee8b7b246df8f9039afb4144a1f6fd8d2ca17a180786b69acc140d282b71a49"
   }
  }
 },
 "nbformat": 4,
 "nbformat_minor": 5
}
