{
 "cells": [
  {
   "cell_type": "code",
   "execution_count": 1,
   "id": "ab0c9fbf-e1d3-45e5-8439-f883a2985fe2",
   "metadata": {},
   "outputs": [
    {
     "name": "stdout",
     "output_type": "stream",
     "text": [
      "90: 2\n",
      "70: 1\n",
      "80: 1\n",
      "100: 1\n"
     ]
    }
   ],
   "source": [
    "import collections\n",
    "import pyspark\n",
    "\n",
    "test_file = \"file:///home/jovyan/work/sample/grade.txt\"\n",
    "# sc = pyspark.SparkContext('local[*]')\n",
    "sc = pyspark.SparkContext.getOrCreate()\n",
    "\n",
    "text_file = sc.textFile(test_file)\n",
    "\n",
    "grade = text_file.map(lambda line: line.split(\" \")[1])\n",
    "\n",
    "# Return the count of each unique value in this RDD as a dictionary of (value, count) pairs.\n",
    "grade_count = grade.countByValue()\n",
    "\n",
    "for grade, count in sorted(grade_count.items(), key=lambda item: item[1], reverse=True):\n",
    "    print(f\"{grade}: {count}\")"
   ]
  },
  {
   "cell_type": "code",
   "execution_count": 2,
   "id": "0ae5e483-5bb7-4ae4-8df5-5bd6edc56834",
   "metadata": {},
   "outputs": [
    {
     "ename": "NameError",
     "evalue": "name 'pyspark' is not defined",
     "output_type": "error",
     "traceback": [
      "\u001b[0;31m---------------------------------------------------------------------------\u001b[0m",
      "\u001b[0;31mNameError\u001b[0m                                 Traceback (most recent call last)",
      "Cell \u001b[0;32mIn[2], line 1\u001b[0m\n\u001b[0;32m----> 1\u001b[0m sc \u001b[38;5;241m=\u001b[39m \u001b[43mpyspark\u001b[49m\u001b[38;5;241m.\u001b[39mSparkContext\u001b[38;5;241m.\u001b[39mgetOrCreate()\n",
      "\u001b[0;31mNameError\u001b[0m: name 'pyspark' is not defined"
     ]
    }
   ],
   "source": [
    "sc = pyspark.SparkContext.getOrCreate()"
   ]
  },
  {
   "cell_type": "code",
   "execution_count": 6,
   "id": "2e156dfd-e422-489c-b851-cd2cd6312eaa",
   "metadata": {},
   "outputs": [],
   "source": [
    "import pyspark\n",
    "sc = pyspark.SparkContext.getOrCreate()\n",
    "\n",
    "test_file = \"file:///home/jovyan/work/sample/grade.txt\"\n",
    "text_file = sc.textFile(test_file)"
   ]
  },
  {
   "cell_type": "code",
   "execution_count": 14,
   "id": "c95d9310-17ba-4aa4-a9e5-c666b540e6d1",
   "metadata": {},
   "outputs": [
    {
     "data": {
      "text/plain": [
       "defaultdict(int, {'70': 1, '80': 1, '100': 1, '90': 2})"
      ]
     },
     "execution_count": 14,
     "metadata": {},
     "output_type": "execute_result"
    }
   ],
   "source": [
    "grade = text_file.map(lambda line : line.split(\" \")[1])\n",
    "\n",
    "grade_count = grade.countByValue()\n",
    "\n"
   ]
  },
  {
   "cell_type": "code",
   "execution_count": 19,
   "id": "0dbd10f7-401e-46bf-a332-4cbed39b5747",
   "metadata": {},
   "outputs": [
    {
     "data": {
      "text/plain": [
       "defaultdict(int, {'70': 1, '80': 1, '100': 1, '90': 2})"
      ]
     },
     "execution_count": 19,
     "metadata": {},
     "output_type": "execute_result"
    }
   ],
   "source": [
    "grade = text_file.map(lambda line :  line.split(\" \")[1])\n",
    "grade.countByValue()\n",
    "\n",
    "for grade , count in sorted(grade_count.it\n"
   ]
  },
  {
   "cell_type": "code",
   "execution_count": 20,
   "id": "a835974f-4534-4df3-b250-51a77e1c90f2",
   "metadata": {},
   "outputs": [
    {
     "name": "stdout",
     "output_type": "stream",
     "text": [
      "1\n"
     ]
    }
   ],
   "source": [
    "print(1)"
   ]
  },
  {
   "cell_type": "code",
   "execution_count": 23,
   "id": "24c81f08-b483-499a-b260-93d91a146b8a",
   "metadata": {},
   "outputs": [
    {
     "data": {
      "text/plain": [
       "[('hello', 5), ('world', 5)]"
      ]
     },
     "execution_count": 23,
     "metadata": {},
     "output_type": "execute_result"
    }
   ],
   "source": [
    "import pyspark\n",
    "\n",
    "test_file = \"file:///home/jovyan/work/sample/word.txt\"\n",
    "\n",
    "sc = pyspark.SparkContext.getOrCreate()\n",
    "text_file =sc.textFile(test_file)\n",
    "\n",
    "text_file.flatMap(lambda line :  line.split(\" \")).map(lambda a : (a,1)).reduceByKey(lambda a, b : (a+b)).collect()\n",
    "\n"
   ]
  },
  {
   "cell_type": "code",
   "execution_count": 52,
   "id": "3a18f136-b912-446e-a97d-dc43b8e49a40",
   "metadata": {},
   "outputs": [
    {
     "name": "stdout",
     "output_type": "stream",
     "text": [
      "90: 2\n",
      "70: 1\n",
      "80: 1\n",
      "100: 1\n"
     ]
    }
   ],
   "source": [
    "import pyspark\n",
    "\n",
    "test_file = \"file:///home/jovyan/work/sample/grade.txt\"\n",
    "\n",
    "sc = pyspark.SparkContext.getOrCreate()\n",
    "text_file = sc.textFile(test_file)\n",
    "\n",
    "\n",
    "grade = text_file.map(lambda line : line.split(\" \")[1]).countByValue()\n",
    "\n",
    "for grade, counts in sorted(grade.items(), key = lambda item : item[1] , reverse = True):\n",
    "    print(f\"{grade}: {counts}\")\n",
    "\n",
    "\n"
   ]
  },
  {
   "cell_type": "code",
   "execution_count": 2,
   "id": "34468fa5-57e1-48c3-b964-b09f2da29521",
   "metadata": {},
   "outputs": [],
   "source": [
    "import pyspark\n",
    "sc = pyspark.SparkContext.getOrCreate()\n",
    "\n",
    "test_file = \"file:///home/jovyan/work/sample/house_price.csv\"\n",
    "text_file = sc.textFile(test_file)\n"
   ]
  },
  {
   "cell_type": "code",
   "execution_count": 3,
   "id": "99a86760-c4e1-47cd-a0cf-83857e91d977",
   "metadata": {},
   "outputs": [
    {
     "data": {
      "text/plain": [
       "['seoul,10000,3',\n",
       " 'seoul,10000,5',\n",
       " 'seoul,40000,7',\n",
       " 'busan,5000,7',\n",
       " 'incheon,4000,2',\n",
       " 'busan,9000,4',\n",
       " 'incheon,5000,7',\n",
       " 'seoul,4000,2',\n",
       " 'busan,8000,9']"
      ]
     },
     "execution_count": 3,
     "metadata": {},
     "output_type": "execute_result"
    }
   ],
   "source": [
    "text_file.collect()"
   ]
  },
  {
   "cell_type": "code",
   "execution_count": 5,
   "id": "c9ddb593-ddef-4fed-8fc0-633748682d22",
   "metadata": {},
   "outputs": [
    {
     "data": {
      "text/plain": [
       "[(10000, 3),\n",
       " (10000, 5),\n",
       " (40000, 7),\n",
       " (5000, 7),\n",
       " (4000, 2),\n",
       " (9000, 4),\n",
       " (5000, 7),\n",
       " (4000, 2),\n",
       " (8000, 9)]"
      ]
     },
     "execution_count": 5,
     "metadata": {},
     "output_type": "execute_result"
    }
   ],
   "source": [
    "def line_parse(line):\n",
    "    city, cost, cnt = line.split(\",\")\n",
    "    return (int(cost),int(cnt))\n",
    "\n",
    "\n",
    "text_file.map(line_parse).collect()"
   ]
  },
  {
   "cell_type": "code",
   "execution_count": 9,
   "id": "9ba6474b-51f8-4957-8d95-b88b2174bd43",
   "metadata": {},
   "outputs": [
    {
     "data": {
      "text/plain": [
       "[(10000, (3, 1)),\n",
       " (10000, (5, 1)),\n",
       " (40000, (7, 1)),\n",
       " (5000, (7, 1)),\n",
       " (4000, (2, 1)),\n",
       " (9000, (4, 1)),\n",
       " (5000, (7, 1)),\n",
       " (4000, (2, 1)),\n",
       " (8000, (9, 1))]"
      ]
     },
     "execution_count": 9,
     "metadata": {},
     "output_type": "execute_result"
    }
   ],
   "source": [
    "text_file.map(line_parse).mapValues(lambda a : (a,1)).collect()"
   ]
  },
  {
   "cell_type": "code",
   "execution_count": 12,
   "id": "a9ccfbf5-7d03-454d-b7c3-0ec64bcd86bc",
   "metadata": {},
   "outputs": [
    {
     "data": {
      "text/plain": [
       "[(10000, 4.0),\n",
       " (40000, 7.0),\n",
       " (5000, 7.0),\n",
       " (4000, 2.0),\n",
       " (9000, 4.0),\n",
       " (8000, 9.0)]"
      ]
     },
     "execution_count": 12,
     "metadata": {},
     "output_type": "execute_result"
    }
   ],
   "source": [
    "text_file.map(line_parse).mapValues(lambda a : (a,1)).reduceByKey(lambda a,b : ((a[0]+b[0], a[1]+b[1]))).mapValues(lambda a : a[0]/a[1]).collect()"
   ]
  },
  {
   "cell_type": "code",
   "execution_count": null,
   "id": "2c8b9179-2cd1-4d8d-937d-a30cc7b4dcf5",
   "metadata": {},
   "outputs": [],
   "source": []
  }
 ],
 "metadata": {
  "kernelspec": {
   "display_name": "Python 3 (ipykernel)",
   "language": "python",
   "name": "python3"
  },
  "language_info": {
   "codemirror_mode": {
    "name": "ipython",
    "version": 3
   },
   "file_extension": ".py",
   "mimetype": "text/x-python",
   "name": "python",
   "nbconvert_exporter": "python",
   "pygments_lexer": "ipython3",
   "version": "3.11.6"
  },
  "vscode": {
   "interpreter": {
    "hash": "aee8b7b246df8f9039afb4144a1f6fd8d2ca17a180786b69acc140d282b71a49"
   }
  }
 },
 "nbformat": 4,
 "nbformat_minor": 5
}
