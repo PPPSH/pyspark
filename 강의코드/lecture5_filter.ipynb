{
 "cells": [
  {
   "cell_type": "code",
   "execution_count": 28,
   "id": "b0c3e1d3-8c51-4e1b-ac90-63799fce07bb",
   "metadata": {},
   "outputs": [
    {
     "name": "stdout",
     "output_type": "stream",
     "text": [
      "Auckland: 49.856\n",
      "NA: 12.4682\n",
      "Johannesburg: 42.1772\n",
      "Marseille: 39.3908\n",
      "Odesa: 14.8838\n",
      "Tottori: 34.2518\n",
      "Warsaw: 6.8\n",
      "Brasília: 62.9744\n",
      "Canoas: 50.009\n",
      "Cape Town: 49.9946\n",
      "Hamilton: 44.564\n",
      "Kherson: 7.0952\n",
      "Kiev: 2.85619999999999\n",
      "Lvov: 7.1726\n",
      "Paris: 25.0232\n",
      "Stockholm: 13.3988\n",
      "Tokyo: 29.156\n",
      "Uppsala: 6.0494\n",
      "Wroclaw: 9.167\n",
      "------------------\n",
      "Auckland: 71.1284\n",
      "NA: 82.067\n",
      "Johannesburg: 71.5766\n",
      "Marseille: 80.9132\n",
      "Odesa: 77.8748\n",
      "Tottori: 84.6554\n",
      "Warsaw: 73.112\n",
      "Brasília: 78.6794\n",
      "Canoas: 78.5822\n",
      "Cape Town: 71.7512\n",
      "Hamilton: 70.3562\n",
      "Kherson: 78.6758\n",
      "Kiev: 76.2674\n",
      "Lvov: 72.3344\n",
      "Paris: 73.8752\n",
      "Stockholm: 68.9792\n",
      "Tokyo: 81.131\n",
      "Uppsala: 67.9424\n",
      "Wroclaw: 71.4398\n"
     ]
    }
   ],
   "source": [
    "# filter\n",
    "# Return a new RDD containing only the elements that satisfy a predicate.\n",
    "\n",
    "import pyspark\n",
    "\n",
    "sc = pyspark.SparkContext.getOrCreate()\n",
    "test_file = \"file:///home/jovyan/work/sample/temperature.csv\"\n",
    "\n",
    "def get_data(line, header):\n",
    "    if line != header:\n",
    "        col = line.split(',')\n",
    "        city = col[6].strip(\"\\\"\")\n",
    "        avg_temp_fahr = col[4]\n",
    "        yield (city, avg_temp_fahr)\n",
    "\n",
    "lines = sc.textFile(test_file)\n",
    "\n",
    "# get header string\n",
    "header = lines.first()\n",
    "\n",
    "parsed_line = lines.flatMap(lambda line: get_data(line, header))\n",
    "\n",
    "# filter NA values\n",
    "filtered_line = parsed_line.filter(lambda x: \"NA\" not in x[1])\n",
    "\n",
    "# finding min temperature\n",
    "min_temp = filtered_line.reduceByKey(lambda x, y: min(float(x), float(y)))\n",
    "final_list = min_temp.collect()\n",
    "for city, temperature in final_list:\n",
    "    print(f\"{city}: {temperature}\")\n",
    "\n",
    "print(\"------------------\")\n",
    "# finding max temperature\n",
    "min_temp = filtered_line.reduceByKey(lambda x, y: max(float(x), float(y)))\n",
    "final_list = min_temp.collect()\n",
    "for city, temperature in final_list:\n",
    "    print(f\"{city}: {temperature}\")\n"
   ]
  },
  {
   "cell_type": "code",
   "execution_count": null,
   "id": "d18dcdb0-997c-4882-8033-a7241cba4d87",
   "metadata": {},
   "outputs": [],
   "source": []
  },
  {
   "cell_type": "code",
   "execution_count": 9,
   "id": "cb1da559-b1c4-4f94-8082-f5fc03320a48",
   "metadata": {},
   "outputs": [
    {
     "data": {
      "text/plain": [
       "'\"record_id\",\"month\",\"day\",\"year\",\"AverageTemperatureFahr\",\"AverageTemperatureUncertaintyFahr\",\"City\",\"country_id\",\"Country\",\"Latitude\",\"Longitude\"'"
      ]
     },
     "execution_count": 9,
     "metadata": {},
     "output_type": "execute_result"
    }
   ],
   "source": [
    "lines.first()"
   ]
  },
  {
   "cell_type": "code",
   "execution_count": 19,
   "id": "4c3e3245-eade-41dd-90b6-b81e0408d9ff",
   "metadata": {},
   "outputs": [
    {
     "name": "stdout",
     "output_type": "stream",
     "text": [
      "Auckland 49.856\n",
      "Canoas 50.009\n",
      "Cape Town 49.9946\n",
      "Hamilton 44.564\n",
      "Kherson 7.0952\n",
      "Kiev 2.85619999999999\n",
      "Lvov 7.1726\n",
      "Marseille 39.3908\n",
      "Odesa 14.8838\n",
      "Stockholm 13.3988\n",
      "Wroclaw 9.167\n",
      "NA 12.4682\n",
      "Brasília 62.9744\n",
      "Johannesburg 42.1772\n",
      "Paris 25.0232\n",
      "Tokyo 29.156\n",
      "Tottori 34.2518\n",
      "Uppsala 6.0494\n",
      "Warsaw 6.8\n"
     ]
    }
   ],
   "source": [
    "import pyspark\n",
    "\n",
    "sc = pyspark.SparkContext.getOrCreate()\n",
    "test_file = \"file:///home/jovyan/work/sample/temperature.csv\"\n",
    "\n",
    "lines = sc.textFile(test_file)\n",
    "\n",
    "header = lines.first()\n",
    "\n",
    "\n",
    "def col_parse(line : str, heaer):\n",
    "    if line != header:\n",
    "        col = line.split(\",\")\n",
    "        city = col[6].strip(\"\\\"\")\n",
    "        tmp = col[4]\n",
    "        yield(city,tmp)\n",
    "\n",
    "col_lines = lines.flatMap(lambda line : col_parse(line,header))\n",
    "\n",
    "result = col_lines.filter(lambda item : item[1] not in \"NA\").mapValues(lambda a : float(a)).reduceByKey(min).collect()\n",
    "\n",
    "for city, tmp in result : \n",
    "    print(city, tmp)\n",
    "\n"
   ]
  },
  {
   "cell_type": "code",
   "execution_count": 1,
   "id": "11389418-f6c2-401c-bb6b-60e1b462f8bc",
   "metadata": {},
   "outputs": [
    {
     "name": "stdout",
     "output_type": "stream",
     "text": [
      "1\n"
     ]
    }
   ],
   "source": [
    "print(1)"
   ]
  },
  {
   "cell_type": "code",
   "execution_count": 7,
   "id": "8809f736-1cca-4d7e-a9fc-4c319ef27f73",
   "metadata": {},
   "outputs": [],
   "source": [
    "# filter\n",
    "# Return a new RDD containing only the elements that satisfy a predicate.\n",
    "\n",
    "import pyspark\n",
    "\n",
    "sc = pyspark.SparkContext.getOrCreate()\n",
    "test_file = \"file:///home/jovyan/work/sample/temperature.csv\"\n",
    "lines = sc.textFile(test_file)"
   ]
  },
  {
   "cell_type": "code",
   "execution_count": null,
   "id": "1682da76-53c4-4744-af13-7ed2b68cbc92",
   "metadata": {},
   "outputs": [],
   "source": [
    "lines.collect()"
   ]
  },
  {
   "cell_type": "code",
   "execution_count": 11,
   "id": "2d56df48-a9a6-41bb-b09a-80c4e8aeb368",
   "metadata": {},
   "outputs": [],
   "source": [
    "header=lines.first()"
   ]
  },
  {
   "cell_type": "code",
   "execution_count": 34,
   "id": "cfa4e18a-36be-4070-8af2-711035fb04d7",
   "metadata": {},
   "outputs": [],
   "source": [
    "def get_data(line):\n",
    "    if line != header :\n",
    "        col = line.split(\",\")\n",
    "        city = col[6].strip(\"\\\"\")\n",
    "        avg_temp= col[4]\n",
    "        yield (city, avg_temp)\n",
    "\n",
    "col_parse=lines.flatMap(lambda line : get_data(line))"
   ]
  },
  {
   "cell_type": "code",
   "execution_count": 39,
   "id": "80008226-695f-45ce-9ab0-5e7eac3ad783",
   "metadata": {},
   "outputs": [],
   "source": [
    "filter_line = col_parse.filter(lambda x : \"NA\" not in x[1])"
   ]
  },
  {
   "cell_type": "code",
   "execution_count": 42,
   "id": "889fb687-5935-4b97-b662-530f321572da",
   "metadata": {},
   "outputs": [],
   "source": [
    "f2 = filter_line.mapValues(lambda x : float(x))"
   ]
  },
  {
   "cell_type": "code",
   "execution_count": 45,
   "id": "9c3d8f24-13a5-43ca-8c51-beded6338d72",
   "metadata": {},
   "outputs": [
    {
     "data": {
      "text/plain": [
       "[('Auckland', 49.856),\n",
       " ('Canoas', 50.009),\n",
       " ('Cape Town', 49.9946),\n",
       " ('Hamilton', 44.564),\n",
       " ('Kherson', 7.0952),\n",
       " ('Kiev', 2.85619999999999),\n",
       " ('Lvov', 7.1726),\n",
       " ('Marseille', 39.3908),\n",
       " ('Odesa', 14.8838),\n",
       " ('Stockholm', 13.3988),\n",
       " ('Wroclaw', 9.167),\n",
       " ('NA', 12.4682),\n",
       " ('Brasília', 62.9744),\n",
       " ('Johannesburg', 42.1772),\n",
       " ('Paris', 25.0232),\n",
       " ('Tokyo', 29.156),\n",
       " ('Tottori', 34.2518),\n",
       " ('Uppsala', 6.0494),\n",
       " ('Warsaw', 6.8)]"
      ]
     },
     "execution_count": 45,
     "metadata": {},
     "output_type": "execute_result"
    }
   ],
   "source": [
    "f2.reduceByKey(min).collect()"
   ]
  },
  {
   "cell_type": "code",
   "execution_count": null,
   "id": "491484f6-2e4f-43ee-9d75-7eeef50e8074",
   "metadata": {},
   "outputs": [],
   "source": []
  }
 ],
 "metadata": {
  "kernelspec": {
   "display_name": "Python 3 (ipykernel)",
   "language": "python",
   "name": "python3"
  },
  "language_info": {
   "codemirror_mode": {
    "name": "ipython",
    "version": 3
   },
   "file_extension": ".py",
   "mimetype": "text/x-python",
   "name": "python",
   "nbconvert_exporter": "python",
   "pygments_lexer": "ipython3",
   "version": "3.11.6"
  },
  "vscode": {
   "interpreter": {
    "hash": "aee8b7b246df8f9039afb4144a1f6fd8d2ca17a180786b69acc140d282b71a49"
   }
  }
 },
 "nbformat": 4,
 "nbformat_minor": 5
}
