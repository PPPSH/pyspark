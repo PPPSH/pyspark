{
 "cells": [
  {
   "cell_type": "code",
   "execution_count": null,
   "id": "16f5d1e4-1efe-4584-a48e-91d1f08b727c",
   "metadata": {},
   "outputs": [],
   "source": [
    "# map vs. flatMap\n",
    "\n",
    "# map transformation applies a function to each row in a DataFrame/Dataset and returns the new transformed Dataset.\n",
    "# 1 => 1\n",
    "# flatMap transformation flattens the DataFrame/Dataset after applying the function on every element and returns a new transformed Dataset. \n",
    "# The returned Dataset will return more rows than the current DataFrame. It is also referred to as a one-to-many transformation function\n",
    "# 1 => Many\n",
    "# One of the use cases of flatMap() is to flatten column which contains arrays, list, or any nested collection\n",
    "\n",
    "import pyspark\n",
    "\n",
    "sc = pyspark.SparkContext.getOrCreate()\n",
    "rdd = sc.parallelize([(\"name\", \"joe,sarah,tom\"), (\"car\", \"hyundai\")])\n",
    "result = rdd.map(lambda x: x[1].split(\",\"))\n",
    "# print(result.collect())\n",
    "# [['joe', 'sarah', 'tom'], ['hyundai']]\n",
    "\n",
    "rdd = sc.parallelize([(\"name\", \"joe,sarah,tom\"), (\"car\", \"hyundai\")])\n",
    "result = rdd.flatMap(lambda x: x[1].split(\",\"))\n",
    "# print(result.collect())\n",
    "# ['joe', 'sarah', 'tom', 'hyundai']\n",
    "\n",
    "\n",
    "test_file = \"file:///home/jovyan/work/sample/lorem_ipsum.txt\"\n",
    "lines = sc.textFile(test_file)\n",
    "words = lines.flatMap(lambda x: x.split())\n",
    "# word_count = words.countByValue()\n",
    "# print(word_count)\n",
    "# for word, count in word_count.items():\n",
    "#     print(f\"{word}: {count}\")\n",
    "    \n",
    "    \n",
    "# # How about sort by key?\n",
    "word_count = words.map(lambda x: (x, 1)).reduceByKey(lambda x, y: x + y)\n",
    "sorted_word_count = word_count.map(lambda x: (x[1], x[0])).sortByKey()\n",
    "for count, word in sorted_word_count.collect():\n",
    "    print(f\"{count}: {word}\")"
   ]
  },
  {
   "cell_type": "code",
   "execution_count": null,
   "id": "07971519-1245-492b-b223-e10af9d1c35d",
   "metadata": {},
   "outputs": [],
   "source": []
  }
 ],
 "metadata": {
  "kernelspec": {
   "display_name": "Python 3 (ipykernel)",
   "language": "python",
   "name": "python3"
  },
  "language_info": {
   "codemirror_mode": {
    "name": "ipython",
    "version": 3
   },
   "file_extension": ".py",
   "mimetype": "text/x-python",
   "name": "python",
   "nbconvert_exporter": "python",
   "pygments_lexer": "ipython3",
   "version": "3.10.8"
  },
  "vscode": {
   "interpreter": {
    "hash": "aee8b7b246df8f9039afb4144a1f6fd8d2ca17a180786b69acc140d282b71a49"
   }
  }
 },
 "nbformat": 4,
 "nbformat_minor": 5
}
