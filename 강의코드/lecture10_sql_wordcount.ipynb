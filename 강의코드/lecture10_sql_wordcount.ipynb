{
 "cells": [
  {
   "cell_type": "code",
   "execution_count": 1,
   "id": "47107a12-627b-42be-8ab2-e2d1d5a8031f",
   "metadata": {},
   "outputs": [
    {
     "name": "stdout",
     "output_type": "stream",
     "text": [
      "+------------+-----+\n",
      "|        word|count|\n",
      "+------------+-----+\n",
      "|         sit|    6|\n",
      "|        amet|    5|\n",
      "|          in|    4|\n",
      "|sollicitudin|    3|\n",
      "|     gravida|    3|\n",
      "|          et|    3|\n",
      "|      tellus|    3|\n",
      "|          id|    3|\n",
      "|    interdum|    2|\n",
      "|        quam|    2|\n",
      "|   fermentum|    2|\n",
      "|     laoreet|    2|\n",
      "|   malesuada|    2|\n",
      "|        diam|    2|\n",
      "|     commodo|    2|\n",
      "|     cursus.|    2|\n",
      "|       magna|    2|\n",
      "|        eget|    2|\n",
      "|       nulla|    2|\n",
      "|         sed|    2|\n",
      "+------------+-----+\n",
      "only showing top 20 rows\n",
      "\n"
     ]
    }
   ],
   "source": [
    "from pyspark.sql import (\n",
    "    functions,\n",
    "    Row,\n",
    "    SparkSession\n",
    ")\n",
    "\n",
    "spark = SparkSession.builder.appName(\"df_wordcount\").getOrCreate()\n",
    "\n",
    "# # functions.explode(col)\n",
    "# # Returns a new row for each element in the given array or map\n",
    "df = spark.createDataFrame([\n",
    "        Row(a=1,\n",
    "            intlist=[1,2,3],\n",
    "            mapfield={\"a\": \"b\"}\n",
    "           )])\n",
    "\n",
    "# df.select(functions.explode(df.intlist).alias(\"anInt\")).collect()\n",
    "# # output: [Row(anInt=1), Row(anInt=2), Row(anInt=3)]\n",
    "\n",
    "\n",
    "# # functions.split(str, pattern, limit=-1)\n",
    "# # Splits str around matches of the given pattern.\n",
    "df = spark.createDataFrame([\n",
    "        Row(word=\"hello world and pyspark\")])\n",
    "df.select(functions.split(df.word, ' ').alias(\"word\")).collect()\n",
    "\n",
    "\n",
    "csv_file_path = \"file:///home/jovyan/work/sample/lorem_ipsum.txt\"\n",
    "df = spark.read.text(csv_file_path)\n",
    "\n",
    "# # save as \"value\"\n",
    "# df.show()\n",
    "\n",
    "words = df.select(\n",
    "    functions.explode(\n",
    "        functions.split(df.value, ' ')).alias(\"word\"))\n",
    "# words.show()\n",
    "word_counts = words.groupBy(\"word\").count().orderBy(functions.col(\"count\").desc())\n",
    "# \n",
    "word_counts.show()"
   ]
  },
  {
   "cell_type": "code",
   "execution_count": null,
   "id": "471c655f-2cce-4176-8e63-70923a3bc13d",
   "metadata": {},
   "outputs": [],
   "source": []
  },
  {
   "cell_type": "code",
   "execution_count": 17,
   "id": "69e58212-b12e-4148-941b-587256b712f4",
   "metadata": {},
   "outputs": [
    {
     "name": "stdout",
     "output_type": "stream",
     "text": [
      "+------------+--------+\n",
      "|        word|count(1)|\n",
      "+------------+--------+\n",
      "|         sed|     194|\n",
      "|          in|     164|\n",
      "|        amet|     149|\n",
      "|         sit|     147|\n",
      "|          ut|     140|\n",
      "|        eget|     131|\n",
      "|          id|     127|\n",
      "|          at|     120|\n",
      "|       vitae|     118|\n",
      "|          et|     117|\n",
      "|        nunc|     113|\n",
      "|          eu|     108|\n",
      "|         non|     102|\n",
      "|            |      99|\n",
      "|          ac|      97|\n",
      "|      tellus|      97|\n",
      "|        diam|      95|\n",
      "|     viverra|      95|\n",
      "|        enim|      93|\n",
      "|pellentesque|      93|\n",
      "+------------+--------+\n",
      "only showing top 20 rows\n",
      "\n"
     ]
    }
   ],
   "source": [
    "from pyspark.sql import (\n",
    "    functions,\n",
    "    Row,\n",
    "    SparkSession\n",
    ")\n",
    "\n",
    "spark = SparkSession.builder.appName(\"df_wordcount\").getOrCreate()\n",
    "csv_file_path = \"file:///home/jovyan/work/sample/lorem_ipsum.txt\"\n",
    "df = spark.read.text(csv_file_path)\n",
    "\n",
    "words = df.select(functions.explode(functions.split(df.value, ' ')).alias(\"word\"))\n",
    "\n",
    "words.createOrReplaceTempView(\"income\")\n",
    "\n",
    "spark.sql(\n",
    "    \"select word, count(*) from income group by 1 order by count(*) desc limit 100\"\n",
    ").show()\n",
    "\n",
    "\n",
    "\n",
    "# #words = \n",
    "# df.select(\n",
    "# functions.explode(functions.split(df.value, ' ')).alias(\"word\")\n",
    "# )\n"
   ]
  },
  {
   "cell_type": "code",
   "execution_count": null,
   "id": "cdd2dcc5-b55a-49dc-ae2f-921d3d336a38",
   "metadata": {},
   "outputs": [],
   "source": []
  }
 ],
 "metadata": {
  "kernelspec": {
   "display_name": "Python 3 (ipykernel)",
   "language": "python",
   "name": "python3"
  },
  "language_info": {
   "codemirror_mode": {
    "name": "ipython",
    "version": 3
   },
   "file_extension": ".py",
   "mimetype": "text/x-python",
   "name": "python",
   "nbconvert_exporter": "python",
   "pygments_lexer": "ipython3",
   "version": "3.11.6"
  },
  "vscode": {
   "interpreter": {
    "hash": "aee8b7b246df8f9039afb4144a1f6fd8d2ca17a180786b69acc140d282b71a49"
   }
  }
 },
 "nbformat": 4,
 "nbformat_minor": 5
}
