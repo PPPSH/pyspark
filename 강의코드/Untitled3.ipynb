{
 "cells": [
  {
   "cell_type": "code",
   "execution_count": 74,
   "id": "18eea75d-cb00-426d-b18d-f350c743a8d7",
   "metadata": {},
   "outputs": [
    {
     "ename": "ConnectionRefusedError",
     "evalue": "[Errno 111] Connection refused",
     "output_type": "error",
     "traceback": [
      "\u001b[0;31m---------------------------------------------------------------------------\u001b[0m",
      "\u001b[0;31mConnectionRefusedError\u001b[0m                    Traceback (most recent call last)",
      "Cell \u001b[0;32mIn[74], line 7\u001b[0m\n\u001b[1;32m      1\u001b[0m \u001b[38;5;28;01mfrom\u001b[39;00m \u001b[38;5;21;01mpyspark\u001b[39;00m\u001b[38;5;21;01m.\u001b[39;00m\u001b[38;5;21;01msql\u001b[39;00m \u001b[38;5;28;01mimport\u001b[39;00m (\n\u001b[1;32m      2\u001b[0m     functions \u001b[38;5;28;01mas\u001b[39;00m f,\n\u001b[1;32m      3\u001b[0m     SparkSession,\n\u001b[1;32m      4\u001b[0m     types \u001b[38;5;28;01mas\u001b[39;00m t\n\u001b[1;32m      5\u001b[0m )\n\u001b[0;32m----> 7\u001b[0m spark \u001b[38;5;241m=\u001b[39m \u001b[43mSparkSession\u001b[49m\u001b[38;5;241;43m.\u001b[39;49m\u001b[43mbuilder\u001b[49m\u001b[38;5;241;43m.\u001b[39;49m\u001b[43mappName\u001b[49m\u001b[43m(\u001b[49m\u001b[38;5;124;43m\"\u001b[39;49m\u001b[38;5;124;43mdf_most_interviewed\u001b[39;49m\u001b[38;5;124;43m\"\u001b[39;49m\u001b[43m)\u001b[49m\u001b[38;5;241;43m.\u001b[39;49m\u001b[43mgetOrCreate\u001b[49m\u001b[43m(\u001b[49m\u001b[43m)\u001b[49m\n\u001b[1;32m      8\u001b[0m table_schema \u001b[38;5;241m=\u001b[39m t\u001b[38;5;241m.\u001b[39mStructType([\n\u001b[1;32m      9\u001b[0m     t\u001b[38;5;241m.\u001b[39mStructField(\u001b[38;5;124m\"\u001b[39m\u001b[38;5;124minterviwer_id\u001b[39m\u001b[38;5;124m\"\u001b[39m, t\u001b[38;5;241m.\u001b[39mStringType(), \u001b[38;5;28;01mFalse\u001b[39;00m),\n\u001b[1;32m     10\u001b[0m     t\u001b[38;5;241m.\u001b[39mStructField(\u001b[38;5;124m\"\u001b[39m\u001b[38;5;124moccupation_id\u001b[39m\u001b[38;5;124m\"\u001b[39m, t\u001b[38;5;241m.\u001b[39mStringType(), \u001b[38;5;28;01mFalse\u001b[39;00m),\n\u001b[1;32m     11\u001b[0m     t\u001b[38;5;241m.\u001b[39mStructField(\u001b[38;5;124m\"\u001b[39m\u001b[38;5;124mrating\u001b[39m\u001b[38;5;124m\"\u001b[39m, t\u001b[38;5;241m.\u001b[39mIntegerType(), \u001b[38;5;28;01mFalse\u001b[39;00m)])\n\u001b[1;32m     13\u001b[0m csv_file_path \u001b[38;5;241m=\u001b[39m \u001b[38;5;124m\"\u001b[39m\u001b[38;5;124mfile:///home/jovyan/work/sample/like.csv\u001b[39m\u001b[38;5;124m\"\u001b[39m\n",
      "File \u001b[0;32m/usr/local/spark/python/pyspark/sql/session.py:503\u001b[0m, in \u001b[0;36mSparkSession.Builder.getOrCreate\u001b[0;34m(self)\u001b[0m\n\u001b[1;32m    500\u001b[0m     session \u001b[38;5;241m=\u001b[39m SparkSession(sc, options\u001b[38;5;241m=\u001b[39m\u001b[38;5;28mself\u001b[39m\u001b[38;5;241m.\u001b[39m_options)\n\u001b[1;32m    501\u001b[0m \u001b[38;5;28;01melse\u001b[39;00m:\n\u001b[1;32m    502\u001b[0m     \u001b[38;5;28mgetattr\u001b[39m(\n\u001b[0;32m--> 503\u001b[0m         \u001b[38;5;28;43mgetattr\u001b[39;49m\u001b[43m(\u001b[49m\u001b[43msession\u001b[49m\u001b[38;5;241;43m.\u001b[39;49m\u001b[43m_jvm\u001b[49m\u001b[43m,\u001b[49m\u001b[43m \u001b[49m\u001b[38;5;124;43m\"\u001b[39;49m\u001b[38;5;124;43mSparkSession$\u001b[39;49m\u001b[38;5;124;43m\"\u001b[39;49m\u001b[43m)\u001b[49m, \u001b[38;5;124m\"\u001b[39m\u001b[38;5;124mMODULE$\u001b[39m\u001b[38;5;124m\"\u001b[39m\n\u001b[1;32m    504\u001b[0m     )\u001b[38;5;241m.\u001b[39mapplyModifiableSettings(session\u001b[38;5;241m.\u001b[39m_jsparkSession, \u001b[38;5;28mself\u001b[39m\u001b[38;5;241m.\u001b[39m_options)\n\u001b[1;32m    505\u001b[0m \u001b[38;5;28;01mreturn\u001b[39;00m session\n",
      "File \u001b[0;32m/usr/local/spark/python/lib/py4j-0.10.9.7-src.zip/py4j/java_gateway.py:1712\u001b[0m, in \u001b[0;36mJVMView.__getattr__\u001b[0;34m(self, name)\u001b[0m\n\u001b[1;32m   1709\u001b[0m \u001b[38;5;28;01mif\u001b[39;00m name \u001b[38;5;241m==\u001b[39m UserHelpAutoCompletion\u001b[38;5;241m.\u001b[39mKEY:\n\u001b[1;32m   1710\u001b[0m     \u001b[38;5;28;01mreturn\u001b[39;00m UserHelpAutoCompletion()\n\u001b[0;32m-> 1712\u001b[0m answer \u001b[38;5;241m=\u001b[39m \u001b[38;5;28;43mself\u001b[39;49m\u001b[38;5;241;43m.\u001b[39;49m\u001b[43m_gateway_client\u001b[49m\u001b[38;5;241;43m.\u001b[39;49m\u001b[43msend_command\u001b[49m\u001b[43m(\u001b[49m\n\u001b[1;32m   1713\u001b[0m \u001b[43m    \u001b[49m\u001b[43mproto\u001b[49m\u001b[38;5;241;43m.\u001b[39;49m\u001b[43mREFLECTION_COMMAND_NAME\u001b[49m\u001b[43m \u001b[49m\u001b[38;5;241;43m+\u001b[39;49m\n\u001b[1;32m   1714\u001b[0m \u001b[43m    \u001b[49m\u001b[43mproto\u001b[49m\u001b[38;5;241;43m.\u001b[39;49m\u001b[43mREFL_GET_UNKNOWN_SUB_COMMAND_NAME\u001b[49m\u001b[43m \u001b[49m\u001b[38;5;241;43m+\u001b[39;49m\u001b[43m \u001b[49m\u001b[43mname\u001b[49m\u001b[43m \u001b[49m\u001b[38;5;241;43m+\u001b[39;49m\u001b[43m \u001b[49m\u001b[38;5;124;43m\"\u001b[39;49m\u001b[38;5;130;43;01m\\n\u001b[39;49;00m\u001b[38;5;124;43m\"\u001b[39;49m\u001b[43m \u001b[49m\u001b[38;5;241;43m+\u001b[39;49m\u001b[43m \u001b[49m\u001b[38;5;28;43mself\u001b[39;49m\u001b[38;5;241;43m.\u001b[39;49m\u001b[43m_id\u001b[49m\u001b[43m \u001b[49m\u001b[38;5;241;43m+\u001b[39;49m\n\u001b[1;32m   1715\u001b[0m \u001b[43m    \u001b[49m\u001b[38;5;124;43m\"\u001b[39;49m\u001b[38;5;130;43;01m\\n\u001b[39;49;00m\u001b[38;5;124;43m\"\u001b[39;49m\u001b[43m \u001b[49m\u001b[38;5;241;43m+\u001b[39;49m\u001b[43m \u001b[49m\u001b[43mproto\u001b[49m\u001b[38;5;241;43m.\u001b[39;49m\u001b[43mEND_COMMAND_PART\u001b[49m\u001b[43m)\u001b[49m\n\u001b[1;32m   1716\u001b[0m \u001b[38;5;28;01mif\u001b[39;00m answer \u001b[38;5;241m==\u001b[39m proto\u001b[38;5;241m.\u001b[39mSUCCESS_PACKAGE:\n\u001b[1;32m   1717\u001b[0m     \u001b[38;5;28;01mreturn\u001b[39;00m JavaPackage(name, \u001b[38;5;28mself\u001b[39m\u001b[38;5;241m.\u001b[39m_gateway_client, jvm_id\u001b[38;5;241m=\u001b[39m\u001b[38;5;28mself\u001b[39m\u001b[38;5;241m.\u001b[39m_id)\n",
      "File \u001b[0;32m/usr/local/spark/python/lib/py4j-0.10.9.7-src.zip/py4j/java_gateway.py:1036\u001b[0m, in \u001b[0;36mGatewayClient.send_command\u001b[0;34m(self, command, retry, binary)\u001b[0m\n\u001b[1;32m   1015\u001b[0m \u001b[38;5;28;01mdef\u001b[39;00m \u001b[38;5;21msend_command\u001b[39m(\u001b[38;5;28mself\u001b[39m, command, retry\u001b[38;5;241m=\u001b[39m\u001b[38;5;28;01mTrue\u001b[39;00m, binary\u001b[38;5;241m=\u001b[39m\u001b[38;5;28;01mFalse\u001b[39;00m):\n\u001b[1;32m   1016\u001b[0m \u001b[38;5;250m    \u001b[39m\u001b[38;5;124;03m\"\"\"Sends a command to the JVM. This method is not intended to be\u001b[39;00m\n\u001b[1;32m   1017\u001b[0m \u001b[38;5;124;03m       called directly by Py4J users. It is usually called by\u001b[39;00m\n\u001b[1;32m   1018\u001b[0m \u001b[38;5;124;03m       :class:`JavaMember` instances.\u001b[39;00m\n\u001b[0;32m   (...)\u001b[0m\n\u001b[1;32m   1034\u001b[0m \u001b[38;5;124;03m     if `binary` is `True`.\u001b[39;00m\n\u001b[1;32m   1035\u001b[0m \u001b[38;5;124;03m    \"\"\"\u001b[39;00m\n\u001b[0;32m-> 1036\u001b[0m     connection \u001b[38;5;241m=\u001b[39m \u001b[38;5;28;43mself\u001b[39;49m\u001b[38;5;241;43m.\u001b[39;49m\u001b[43m_get_connection\u001b[49m\u001b[43m(\u001b[49m\u001b[43m)\u001b[49m\n\u001b[1;32m   1037\u001b[0m     \u001b[38;5;28;01mtry\u001b[39;00m:\n\u001b[1;32m   1038\u001b[0m         response \u001b[38;5;241m=\u001b[39m connection\u001b[38;5;241m.\u001b[39msend_command(command)\n",
      "File \u001b[0;32m/usr/local/spark/python/lib/py4j-0.10.9.7-src.zip/py4j/clientserver.py:284\u001b[0m, in \u001b[0;36mJavaClient._get_connection\u001b[0;34m(self)\u001b[0m\n\u001b[1;32m    281\u001b[0m     \u001b[38;5;28;01mpass\u001b[39;00m\n\u001b[1;32m    283\u001b[0m \u001b[38;5;28;01mif\u001b[39;00m connection \u001b[38;5;129;01mis\u001b[39;00m \u001b[38;5;28;01mNone\u001b[39;00m \u001b[38;5;129;01mor\u001b[39;00m connection\u001b[38;5;241m.\u001b[39msocket \u001b[38;5;129;01mis\u001b[39;00m \u001b[38;5;28;01mNone\u001b[39;00m:\n\u001b[0;32m--> 284\u001b[0m     connection \u001b[38;5;241m=\u001b[39m \u001b[38;5;28;43mself\u001b[39;49m\u001b[38;5;241;43m.\u001b[39;49m\u001b[43m_create_new_connection\u001b[49m\u001b[43m(\u001b[49m\u001b[43m)\u001b[49m\n\u001b[1;32m    285\u001b[0m \u001b[38;5;28;01mreturn\u001b[39;00m connection\n",
      "File \u001b[0;32m/usr/local/spark/python/lib/py4j-0.10.9.7-src.zip/py4j/clientserver.py:291\u001b[0m, in \u001b[0;36mJavaClient._create_new_connection\u001b[0;34m(self)\u001b[0m\n\u001b[1;32m    287\u001b[0m \u001b[38;5;28;01mdef\u001b[39;00m \u001b[38;5;21m_create_new_connection\u001b[39m(\u001b[38;5;28mself\u001b[39m):\n\u001b[1;32m    288\u001b[0m     connection \u001b[38;5;241m=\u001b[39m ClientServerConnection(\n\u001b[1;32m    289\u001b[0m         \u001b[38;5;28mself\u001b[39m\u001b[38;5;241m.\u001b[39mjava_parameters, \u001b[38;5;28mself\u001b[39m\u001b[38;5;241m.\u001b[39mpython_parameters,\n\u001b[1;32m    290\u001b[0m         \u001b[38;5;28mself\u001b[39m\u001b[38;5;241m.\u001b[39mgateway_property, \u001b[38;5;28mself\u001b[39m)\n\u001b[0;32m--> 291\u001b[0m     \u001b[43mconnection\u001b[49m\u001b[38;5;241;43m.\u001b[39;49m\u001b[43mconnect_to_java_server\u001b[49m\u001b[43m(\u001b[49m\u001b[43m)\u001b[49m\n\u001b[1;32m    292\u001b[0m     \u001b[38;5;28mself\u001b[39m\u001b[38;5;241m.\u001b[39mset_thread_connection(connection)\n\u001b[1;32m    293\u001b[0m     \u001b[38;5;28;01mreturn\u001b[39;00m connection\n",
      "File \u001b[0;32m/usr/local/spark/python/lib/py4j-0.10.9.7-src.zip/py4j/clientserver.py:438\u001b[0m, in \u001b[0;36mClientServerConnection.connect_to_java_server\u001b[0;34m(self)\u001b[0m\n\u001b[1;32m    435\u001b[0m \u001b[38;5;28;01mif\u001b[39;00m \u001b[38;5;28mself\u001b[39m\u001b[38;5;241m.\u001b[39mssl_context:\n\u001b[1;32m    436\u001b[0m     \u001b[38;5;28mself\u001b[39m\u001b[38;5;241m.\u001b[39msocket \u001b[38;5;241m=\u001b[39m \u001b[38;5;28mself\u001b[39m\u001b[38;5;241m.\u001b[39mssl_context\u001b[38;5;241m.\u001b[39mwrap_socket(\n\u001b[1;32m    437\u001b[0m         \u001b[38;5;28mself\u001b[39m\u001b[38;5;241m.\u001b[39msocket, server_hostname\u001b[38;5;241m=\u001b[39m\u001b[38;5;28mself\u001b[39m\u001b[38;5;241m.\u001b[39mjava_address)\n\u001b[0;32m--> 438\u001b[0m \u001b[38;5;28;43mself\u001b[39;49m\u001b[38;5;241;43m.\u001b[39;49m\u001b[43msocket\u001b[49m\u001b[38;5;241;43m.\u001b[39;49m\u001b[43mconnect\u001b[49m\u001b[43m(\u001b[49m\u001b[43m(\u001b[49m\u001b[38;5;28;43mself\u001b[39;49m\u001b[38;5;241;43m.\u001b[39;49m\u001b[43mjava_address\u001b[49m\u001b[43m,\u001b[49m\u001b[43m \u001b[49m\u001b[38;5;28;43mself\u001b[39;49m\u001b[38;5;241;43m.\u001b[39;49m\u001b[43mjava_port\u001b[49m\u001b[43m)\u001b[49m\u001b[43m)\u001b[49m\n\u001b[1;32m    439\u001b[0m \u001b[38;5;28mself\u001b[39m\u001b[38;5;241m.\u001b[39mstream \u001b[38;5;241m=\u001b[39m \u001b[38;5;28mself\u001b[39m\u001b[38;5;241m.\u001b[39msocket\u001b[38;5;241m.\u001b[39mmakefile(\u001b[38;5;124m\"\u001b[39m\u001b[38;5;124mrb\u001b[39m\u001b[38;5;124m\"\u001b[39m)\n\u001b[1;32m    440\u001b[0m \u001b[38;5;28mself\u001b[39m\u001b[38;5;241m.\u001b[39mis_connected \u001b[38;5;241m=\u001b[39m \u001b[38;5;28;01mTrue\u001b[39;00m\n",
      "\u001b[0;31mConnectionRefusedError\u001b[0m: [Errno 111] Connection refused"
     ]
    }
   ],
   "source": [
    "from pyspark.sql import (\n",
    "    functions as f,\n",
    "    SparkSession,\n",
    "    types as t\n",
    ")\n",
    "\n",
    "spark = SparkSession.builder.appName(\"df_most_interviewed\").getOrCreate()\n",
    "table_schema = t.StructType([\n",
    "    t.StructField(\"interviwer_id\", t.StringType(), False),\n",
    "    t.StructField(\"occupation_id\", t.StringType(), False),\n",
    "    t.StructField(\"rating\", t.IntegerType(), False)])\n",
    "\n",
    "csv_file_path = \"file:///home/jovyan/work/sample/like.csv\"\n",
    "df = spark.read.schema(table_schema).csv(csv_file_path)\n",
    "\n",
    "interviwer_count = df.groupBy(\"occupation_id\").count().orderBy(f.desc(\"count\"))\n",
    "\n",
    "for d in interviwer_count.select(\"occupation_id\", f.col(\"count\").alias(\"cnt\")).collect():\n",
    "    print(f\"{d.occupation_id}: {d.cnt}\")\n",
    "\n",
    "\n",
    "# But, What if we want to know what occupation_id is?  \n",
    "# 1100: engineer\n",
    "# 2030: developer\n",
    "# 3801: painter\n",
    "# 3021: chemistry teacher\n",
    "# 9382: priest\n",
    "\n",
    "meta = {\n",
    "    \"1100\": \"engineer\",\n",
    "    \"2030\": \"developer\",\n",
    "    \"3801\": \"painter\",\n",
    "    \"3021\": \"chemistry teacher\",\n",
    "    \"9382\": \"priest\"\n",
    "}\n",
    "occupation_dict = spark.sparkContext.broadcast(meta)\n",
    "\n",
    "def get_occupation_name(occupation_id: str) -> str:\n",
    "    return occupation_dict.value[occupation_id]\n",
    "\n",
    "occupation_lookup_udf = f.udf(get_occupation_name)\n",
    "\n",
    "occupation_with_name = interviwer_count.withColumn(\"occupation_name\", occupation_lookup_udf(f.col(\"occupation_id\")))\n",
    "\n",
    "occupation_with_name.show(10)"
   ]
  },
  {
   "cell_type": "code",
   "execution_count": 69,
   "id": "b990114e-7975-4b46-b0cd-12c70e727b6d",
   "metadata": {},
   "outputs": [
    {
     "name": "stdout",
     "output_type": "stream",
     "text": [
      "root\n",
      " |-- interviwer_id: string (nullable = true)\n",
      " |-- occupation_id: string (nullable = true)\n",
      " |-- rating: integer (nullable = true)\n",
      "\n"
     ]
    }
   ],
   "source": [
    "df.printSchema()"
   ]
  },
  {
   "cell_type": "code",
   "execution_count": 70,
   "id": "2673bcd0-a6b8-44b5-9b7d-3385f5dabce6",
   "metadata": {},
   "outputs": [],
   "source": [
    "csv_file_path = \"file:///home/jovyan/work/sample/like.csv\"\n",
    "df = spark.read.option(\"inferSchema\",\"True\").csv(csv_file_path)\n",
    "col = ['interviwer_id', 'occupation_id','rating']\n",
    "df = df.toDF(*col)"
   ]
  },
  {
   "cell_type": "code",
   "execution_count": 71,
   "id": "889a2d61-a662-472b-815d-015d1d4c39de",
   "metadata": {},
   "outputs": [
    {
     "name": "stdout",
     "output_type": "stream",
     "text": [
      "root\n",
      " |-- interviwer_id: integer (nullable = true)\n",
      " |-- occupation_id: integer (nullable = true)\n",
      " |-- rating: integer (nullable = true)\n",
      "\n"
     ]
    }
   ],
   "source": [
    "df.printSchema()"
   ]
  },
  {
   "cell_type": "code",
   "execution_count": 64,
   "id": "239fa758-9127-4459-bbb4-e9743497e95e",
   "metadata": {},
   "outputs": [
    {
     "name": "stdout",
     "output_type": "stream",
     "text": [
      "root\n",
      " |-- occupation_id: integer (nullable = true)\n",
      " |-- count: long (nullable = false)\n",
      "\n"
     ]
    }
   ],
   "source": [
    "interviwer_count.printSchema()"
   ]
  },
  {
   "cell_type": "code",
   "execution_count": 65,
   "id": "29944255-17cb-449b-9e55-ec7dd0482a61",
   "metadata": {},
   "outputs": [
    {
     "name": "stdout",
     "output_type": "stream",
     "text": [
      "+-------------+-----+\n",
      "|occupation_id|count|\n",
      "+-------------+-----+\n",
      "|         1100|  217|\n",
      "|         3801|  203|\n",
      "|         2030|  200|\n",
      "|         3021|  191|\n",
      "|         9382|  189|\n",
      "+-------------+-----+\n",
      "\n"
     ]
    }
   ],
   "source": [
    "interviwer_count = df.groupBy(\"occupation_id\").count().orderBy(f.desc(\"count\"))\n",
    "interviwer_count.show()"
   ]
  },
  {
   "cell_type": "code",
   "execution_count": 72,
   "id": "da83ae04-c72c-473c-a110-d9c8e3e46658",
   "metadata": {},
   "outputs": [
    {
     "name": "stdout",
     "output_type": "stream",
     "text": [
      "+-------------+-----+-----------------+\n",
      "|occupation_id|count|  occupation_name|\n",
      "+-------------+-----+-----------------+\n",
      "|         1100|  217|         engineer|\n",
      "|         3801|  203|          painter|\n",
      "|         2030|  200|        developer|\n",
      "|         3021|  191|chemistry teacher|\n",
      "|         9382|  189|           priest|\n",
      "+-------------+-----+-----------------+\n",
      "\n"
     ]
    }
   ],
   "source": [
    "meta = {\n",
    "    \"1100\": \"engineer\",\n",
    "    \"2030\": \"developer\",\n",
    "    \"3801\": \"painter\",\n",
    "    \"3021\": \"chemistry teacher\",\n",
    "    \"9382\": \"priest\"\n",
    "}\n",
    "\n",
    "occupation_dict = spark.sparkContext.broadcast(meta)\n",
    "\n",
    "def get_occupation_name(occupation_id: str) -> str:\n",
    "    return occupation_dict.value[occupation_id]\n",
    "\n",
    "occupation_lookup_udf = f.udf(get_occupation_name)\n",
    "\n",
    "occupation_with_name = interviwer_count.withColumn(\"occupation_name\", occupation_lookup_udf(f.col(\"occupation_id\")))\n",
    "\n",
    "occupation_with_name.show()\n"
   ]
  },
  {
   "cell_type": "code",
   "execution_count": null,
   "id": "78b5648c-1df4-4854-9e19-45c1853e987c",
   "metadata": {},
   "outputs": [],
   "source": [
    "df"
   ]
  },
  {
   "cell_type": "code",
   "execution_count": 1,
   "id": "01c44b07-c016-492f-b214-474a2379e106",
   "metadata": {},
   "outputs": [
    {
     "name": "stdout",
     "output_type": "stream",
     "text": [
      "1\n"
     ]
    }
   ],
   "source": [
    "print(1)"
   ]
  },
  {
   "cell_type": "code",
   "execution_count": 4,
   "id": "bf38f85a-d2cf-4452-9b49-97b9f66e620c",
   "metadata": {},
   "outputs": [],
   "source": [
    "from pyspark.sql import SparkSession, functions as f, types as t"
   ]
  },
  {
   "cell_type": "code",
   "execution_count": 5,
   "id": "14880809-759f-4425-9766-4bfd0d85d5e7",
   "metadata": {},
   "outputs": [],
   "source": [
    "spark = SparkSession.builder.appName(\"sp\").getOrCreate()"
   ]
  },
  {
   "cell_type": "code",
   "execution_count": 6,
   "id": "096856e0-0b03-4257-b635-967c23775fc8",
   "metadata": {},
   "outputs": [],
   "source": [
    "path = 'file:///home/jovyan/work/sample/like.csv'"
   ]
  },
  {
   "cell_type": "code",
   "execution_count": 7,
   "id": "7a68d973-e3d2-44e1-9d0d-86ae0a75afa8",
   "metadata": {},
   "outputs": [],
   "source": [
    "df= spark.read.option(\"inferSchema\",\"True\").csv(path)"
   ]
  },
  {
   "cell_type": "code",
   "execution_count": 9,
   "id": "ad615844-15ae-4fe0-a505-e1cd770af80f",
   "metadata": {},
   "outputs": [],
   "source": [
    "col = ['id1','id2','point']\n",
    "df = df.toDF(*col)"
   ]
  },
  {
   "cell_type": "code",
   "execution_count": 11,
   "id": "247827b6-6d13-4989-84f4-b01cbd450f74",
   "metadata": {},
   "outputs": [
    {
     "name": "stdout",
     "output_type": "stream",
     "text": [
      "+-----+----+-----+\n",
      "|  id1| id2|point|\n",
      "+-----+----+-----+\n",
      "|11657|1100|    8|\n",
      "|13727|2030|    2|\n",
      "|59892|3801|    1|\n",
      "| 6538|3021|    6|\n",
      "|95811|2030|    9|\n",
      "|54500|1100|   10|\n",
      "|69741|2030|    3|\n",
      "|51166|2030|   10|\n",
      "|70009|9382|    5|\n",
      "|63152|2030|    6|\n",
      "|70758|1100|    2|\n",
      "|35580|2030|    5|\n",
      "|63199|1100|   10|\n",
      "|33078|2030|    3|\n",
      "|97480|9382|    2|\n",
      "|47223|1100|    8|\n",
      "|80308|3021|    8|\n",
      "|26691|1100|    3|\n",
      "|17194|3021|    3|\n",
      "|96584|2030|    4|\n",
      "+-----+----+-----+\n",
      "only showing top 20 rows\n",
      "\n"
     ]
    }
   ],
   "source": [
    "df.show()"
   ]
  },
  {
   "cell_type": "code",
   "execution_count": 18,
   "id": "ae763fd7-c6a4-4778-9953-930fe7083adb",
   "metadata": {},
   "outputs": [
    {
     "name": "stdout",
     "output_type": "stream",
     "text": [
      "+----+-----+\n",
      "| id2|count|\n",
      "+----+-----+\n",
      "|1100|  217|\n",
      "|3801|  203|\n",
      "|2030|  200|\n",
      "|3021|  191|\n",
      "|9382|  189|\n",
      "+----+-----+\n",
      "\n"
     ]
    }
   ],
   "source": [
    "re = df.groupBy(df.id2).count().orderBy(f.desc(\"count\"))\n",
    "re.show()"
   ]
  },
  {
   "cell_type": "code",
   "execution_count": 70,
   "id": "c79c993b-fe46-4c96-8989-e114c3fad274",
   "metadata": {},
   "outputs": [
    {
     "name": "stdout",
     "output_type": "stream",
     "text": [
      "root\n",
      " |-- id2: integer (nullable = true)\n",
      " |-- count: long (nullable = false)\n",
      "\n"
     ]
    }
   ],
   "source": [
    "dat.printSchema()"
   ]
  },
  {
   "cell_type": "code",
   "execution_count": 78,
   "id": "8b93aa57-ffa9-41f7-b8de-e894b521d5c8",
   "metadata": {},
   "outputs": [],
   "source": [
    "dat = dat.withColumn(\"id2\", f.col(\"id2\").cast(\"String\"))"
   ]
  },
  {
   "cell_type": "code",
   "execution_count": 81,
   "id": "329aa7f8-a2b7-49eb-abb0-eaaf853c6655",
   "metadata": {},
   "outputs": [
    {
     "name": "stdout",
     "output_type": "stream",
     "text": [
      "root\n",
      " |-- id2: string (nullable = true)\n",
      " |-- count: long (nullable = false)\n",
      "\n"
     ]
    }
   ],
   "source": [
    "dat.printSchema()"
   ]
  },
  {
   "cell_type": "code",
   "execution_count": 91,
   "id": "2686ea91-8f27-4c98-a297-385451bc2905",
   "metadata": {},
   "outputs": [],
   "source": [
    "meta = {\n",
    "    \"1100\":\"천재\",\n",
    "    \"3801\":\"바보\",\n",
    "    \"2030\":\"보통\",\n",
    "    \"3021\":\"준수\",\n",
    "    \"9382\":\"비범\"\n",
    "}\n",
    "\n",
    "meta_dict = spark.sparkContext.broadcast(meta)\n",
    "\n",
    "def get_name(id):\n",
    "    return meta_dict.value[id]\n",
    "\n",
    "meta_udf = f.udf(get_name)\n",
    "\n",
    "dat2 = dat.withColumn(\"name\", meta_udf(f.col(\"id2\")))"
   ]
  },
  {
   "cell_type": "code",
   "execution_count": 93,
   "id": "670bad97-d2bc-449a-94ca-281b909d488e",
   "metadata": {
    "jp-MarkdownHeadingCollapsed": true
   },
   "outputs": [
    {
     "name": "stdout",
     "output_type": "stream",
     "text": [
      "+----+-----+----+\n",
      "| id2|count|name|\n",
      "+----+-----+----+\n",
      "|1100|  217|천재|\n",
      "|3801|  203|바보|\n",
      "|2030|  200|보통|\n",
      "|3021|  191|준수|\n",
      "|9382|  189|비범|\n",
      "+----+-----+----+\n",
      "\n"
     ]
    }
   ],
   "source": [
    "dat2.show()"
   ]
  },
  {
   "cell_type": "code",
   "execution_count": 94,
   "id": "e1c516ea-72f9-43bf-90d7-9f8e85ebc165",
   "metadata": {},
   "outputs": [],
   "source": [
    "path = \"file:///home/jovyan/work/sample/like.csv\""
   ]
  },
  {
   "cell_type": "code",
   "execution_count": 95,
   "id": "52404aea-2852-42a7-9a0c-1baf241854e0",
   "metadata": {},
   "outputs": [],
   "source": [
    "from pyspark.sql import SparkSession, functions as f , types as t"
   ]
  },
  {
   "cell_type": "code",
   "execution_count": 96,
   "id": "046b73c3-cf90-4bb9-8198-4da51f9b0b08",
   "metadata": {},
   "outputs": [],
   "source": [
    "spark = SparkSession.builder.appName(\"test\").getOrCreate()"
   ]
  },
  {
   "cell_type": "code",
   "execution_count": 98,
   "id": "4de6922d-c11b-4716-940c-9f244a1b2d91",
   "metadata": {},
   "outputs": [],
   "source": [
    "df = spark.read.option(\"inferSchema\",\"true\").csv(path)"
   ]
  },
  {
   "cell_type": "code",
   "execution_count": 100,
   "id": "a4c7f037-d4fd-4ec1-b396-cabfc7c3033a",
   "metadata": {},
   "outputs": [
    {
     "name": "stdout",
     "output_type": "stream",
     "text": [
      "+-----+----+---+\n",
      "|  _c0| _c1|_c2|\n",
      "+-----+----+---+\n",
      "|11657|1100|  8|\n",
      "|13727|2030|  2|\n",
      "|59892|3801|  1|\n",
      "| 6538|3021|  6|\n",
      "|95811|2030|  9|\n",
      "|54500|1100| 10|\n",
      "|69741|2030|  3|\n",
      "|51166|2030| 10|\n",
      "|70009|9382|  5|\n",
      "|63152|2030|  6|\n",
      "+-----+----+---+\n",
      "only showing top 10 rows\n",
      "\n"
     ]
    }
   ],
   "source": [
    "df.show(10)"
   ]
  },
  {
   "cell_type": "code",
   "execution_count": 106,
   "id": "beef8f75-ebfa-4a3a-9d55-b49f7fef7c2b",
   "metadata": {},
   "outputs": [],
   "source": [
    "df = df.toDF('id1','id2','val')"
   ]
  },
  {
   "cell_type": "code",
   "execution_count": 107,
   "id": "7bccb84c-e20f-4138-9107-48afaddd122a",
   "metadata": {},
   "outputs": [
    {
     "name": "stdout",
     "output_type": "stream",
     "text": [
      "+-----+----+---+\n",
      "|  id1| id2|val|\n",
      "+-----+----+---+\n",
      "|11657|1100|  8|\n",
      "|13727|2030|  2|\n",
      "|59892|3801|  1|\n",
      "| 6538|3021|  6|\n",
      "|95811|2030|  9|\n",
      "|54500|1100| 10|\n",
      "|69741|2030|  3|\n",
      "|51166|2030| 10|\n",
      "|70009|9382|  5|\n",
      "|63152|2030|  6|\n",
      "+-----+----+---+\n",
      "only showing top 10 rows\n",
      "\n"
     ]
    }
   ],
   "source": [
    "df.show(10)"
   ]
  },
  {
   "cell_type": "code",
   "execution_count": 108,
   "id": "ee4ffa46-8f9b-4a8e-8b7c-516b6e122425",
   "metadata": {},
   "outputs": [
    {
     "name": "stdout",
     "output_type": "stream",
     "text": [
      "root\n",
      " |-- id1: integer (nullable = true)\n",
      " |-- id2: integer (nullable = true)\n",
      " |-- val: integer (nullable = true)\n",
      "\n"
     ]
    }
   ],
   "source": [
    "df.printSchema()"
   ]
  },
  {
   "cell_type": "code",
   "execution_count": 109,
   "id": "65ae330c-21e0-468d-8047-6a8463ad450b",
   "metadata": {},
   "outputs": [],
   "source": [
    "df = df.withColumn(\"id2\", f.col(\"id2\").cast(\"String\"))"
   ]
  },
  {
   "cell_type": "code",
   "execution_count": 110,
   "id": "7d678f17-0060-4d73-9674-d57511c657a5",
   "metadata": {},
   "outputs": [
    {
     "name": "stdout",
     "output_type": "stream",
     "text": [
      "root\n",
      " |-- id1: integer (nullable = true)\n",
      " |-- id2: string (nullable = true)\n",
      " |-- val: integer (nullable = true)\n",
      "\n"
     ]
    }
   ],
   "source": [
    "df.printSchema()"
   ]
  },
  {
   "cell_type": "code",
   "execution_count": 111,
   "id": "0d1d9b6c-2389-44ca-a151-7c2374c3e597",
   "metadata": {},
   "outputs": [],
   "source": [
    "df = df.groupBy(df.id2).count().orderBy(f.desc(\"count\"))"
   ]
  },
  {
   "cell_type": "code",
   "execution_count": 112,
   "id": "9acb7209-9e2c-4e3c-bb14-2beaeff09c80",
   "metadata": {},
   "outputs": [
    {
     "name": "stdout",
     "output_type": "stream",
     "text": [
      "+----+-----+\n",
      "| id2|count|\n",
      "+----+-----+\n",
      "|1100|  217|\n",
      "|3801|  203|\n",
      "|2030|  200|\n",
      "|3021|  191|\n",
      "|9382|  189|\n",
      "+----+-----+\n",
      "\n"
     ]
    }
   ],
   "source": [
    "df.show()"
   ]
  },
  {
   "cell_type": "code",
   "execution_count": 116,
   "id": "9dee974b-d838-4585-9a0f-9f41fe0f4703",
   "metadata": {},
   "outputs": [],
   "source": [
    "meta = {\n",
    "    \"1100\": \"engineer\",\n",
    "    \"2030\": \"developer\",\n",
    "    \"3801\": \"painter\",\n",
    "    \"3021\": \"chemistry teacher\",\n",
    "    \"9382\": \"priest\"\n",
    "}\n",
    "\n",
    "meta_dict=spark.sparkContext.broadcast(meta)\n",
    "\n",
    "def get_name(id):\n",
    "    return meta_dict.value[id]\n",
    "\n",
    "meta_udf = f.udf(get_name)\n",
    "\n",
    "df = df.withColumn(\"name\", meta_udf(f.col(\"id2\")))\n",
    "\n",
    "\n"
   ]
  },
  {
   "cell_type": "code",
   "execution_count": 117,
   "id": "991edac9-c656-4a46-9e02-8bf1884333a8",
   "metadata": {},
   "outputs": [
    {
     "name": "stdout",
     "output_type": "stream",
     "text": [
      "+----+-----+-----------------+\n",
      "| id2|count|             name|\n",
      "+----+-----+-----------------+\n",
      "|1100|  217|         engineer|\n",
      "|3801|  203|          painter|\n",
      "|2030|  200|        developer|\n",
      "|3021|  191|chemistry teacher|\n",
      "|9382|  189|           priest|\n",
      "+----+-----+-----------------+\n",
      "\n"
     ]
    }
   ],
   "source": [
    "df.show(10)"
   ]
  },
  {
   "cell_type": "code",
   "execution_count": 119,
   "id": "85dbf096-08f7-423e-9897-add23c31c42c",
   "metadata": {},
   "outputs": [
    {
     "name": "stdout",
     "output_type": "stream",
     "text": [
      "+----+-----+\n",
      "| id2|count|\n",
      "+----+-----+\n",
      "|1100|  217|\n",
      "|3801|  203|\n",
      "|2030|  200|\n",
      "|3021|  191|\n",
      "|9382|  189|\n",
      "+----+-----+\n",
      "\n"
     ]
    }
   ],
   "source": [
    "dat.show(10)"
   ]
  },
  {
   "cell_type": "code",
   "execution_count": 121,
   "id": "153b9734-fb87-4839-9ee8-a077c34471c6",
   "metadata": {},
   "outputs": [],
   "source": [
    "df.createOrReplaceTempView('df')\n",
    "dat.createOrReplaceTempView('dat')"
   ]
  },
  {
   "cell_type": "code",
   "execution_count": 126,
   "id": "24aed15f-f05f-443e-b422-321f0d4143b2",
   "metadata": {},
   "outputs": [
    {
     "name": "stdout",
     "output_type": "stream",
     "text": [
      "+----+-----+-----------------+\n",
      "| id2|count|             name|\n",
      "+----+-----+-----------------+\n",
      "|1100|  217|         engineer|\n",
      "|2030|  200|        developer|\n",
      "|3801|  203|          painter|\n",
      "|3021|  191|chemistry teacher|\n",
      "|9382|  189|           priest|\n",
      "+----+-----+-----------------+\n",
      "\n"
     ]
    }
   ],
   "source": [
    "spark.sql(\n",
    "    'select a.* , b.name from dat a left outer join df b on a.id2 = b.id2' \n",
    "    ).show()"
   ]
  },
  {
   "cell_type": "code",
   "execution_count": 1,
   "id": "87b683db-7945-4ba4-b981-09e0e401dee1",
   "metadata": {},
   "outputs": [
    {
     "ename": "NameError",
     "evalue": "name 'dat' is not defined",
     "output_type": "error",
     "traceback": [
      "\u001b[0;31m---------------------------------------------------------------------------\u001b[0m",
      "\u001b[0;31mNameError\u001b[0m                                 Traceback (most recent call last)",
      "Cell \u001b[0;32mIn[1], line 1\u001b[0m\n\u001b[0;32m----> 1\u001b[0m \u001b[43mdat\u001b[49m\n",
      "\u001b[0;31mNameError\u001b[0m: name 'dat' is not defined"
     ]
    }
   ],
   "source": [
    "dat"
   ]
  },
  {
   "cell_type": "code",
   "execution_count": 89,
   "id": "3d680dab-fd49-49d1-998a-15ef5ea08137",
   "metadata": {},
   "outputs": [
    {
     "name": "stdout",
     "output_type": "stream",
     "text": [
      "+--------------------+--------------------+\n",
      "|               hero1|               hero2|\n",
      "+--------------------+--------------------+\n",
      "|       LITTLE, ABNER|      PRINCESS ZANDA|\n",
      "|       LITTLE, ABNER|BLACK PANTHER/T'CHAL|\n",
      "|BLACK PANTHER/T'CHAL|      PRINCESS ZANDA|\n",
      "|       LITTLE, ABNER|      PRINCESS ZANDA|\n",
      "|       LITTLE, ABNER|BLACK PANTHER/T'CHAL|\n",
      "|BLACK PANTHER/T'CHAL|      PRINCESS ZANDA|\n",
      "|STEELE, SIMON/WOLFGA|    FORTUNE, DOMINIC|\n",
      "|STEELE, SIMON/WOLFGA| ERWIN, CLYTEMNESTRA|\n",
      "|STEELE, SIMON/WOLFGA|IRON MAN/TONY STARK |\n",
      "|STEELE, SIMON/WOLFGA|IRON MAN IV/JAMES R.|\n",
      "+--------------------+--------------------+\n",
      "only showing top 10 rows\n",
      "\n"
     ]
    }
   ],
   "source": [
    "from pyspark.sql import functions as f, SparkSession, types as t\n",
    "\n",
    "\n",
    "spark = SparkSession.builder.appName(\"df_study\").getOrCreate()\n",
    "csv_file_path = \"file:///home/jovyan/work/sample/hero-network.csv\"\n",
    "df = spark.read.option(\"header\",\"True\").option(\"inferSchema\",\"True\").csv(csv_file_path)\n",
    "df.show(10)"
   ]
  },
  {
   "cell_type": "code",
   "execution_count": 87,
   "id": "df5e9838-ceeb-4693-b89c-bee67c26a5df",
   "metadata": {},
   "outputs": [
    {
     "name": "stdout",
     "output_type": "stream",
     "text": [
      "+--------------------+--------------------+\n",
      "|               hero1|               hero2|\n",
      "+--------------------+--------------------+\n",
      "|       LITTLE, ABNER|      PRINCESS ZANDA|\n",
      "|       LITTLE, ABNER|BLACK PANTHER/T'CHAL|\n",
      "|BLACK PANTHER/T'CHAL|      PRINCESS ZANDA|\n",
      "|       LITTLE, ABNER|      PRINCESS ZANDA|\n",
      "|       LITTLE, ABNER|BLACK PANTHER/T'CHAL|\n",
      "|BLACK PANTHER/T'CHAL|      PRINCESS ZANDA|\n",
      "|STEELE, SIMON/WOLFGA|    FORTUNE, DOMINIC|\n",
      "|STEELE, SIMON/WOLFGA| ERWIN, CLYTEMNESTRA|\n",
      "|STEELE, SIMON/WOLFGA|IRON MAN/TONY STARK |\n",
      "|STEELE, SIMON/WOLFGA|IRON MAN IV/JAMES R.|\n",
      "|STEELE, SIMON/WOLFGA|RAVEN, SABBATH II/EL|\n",
      "|RAVEN, SABBATH II/EL|    FORTUNE, DOMINIC|\n",
      "|RAVEN, SABBATH II/EL| ERWIN, CLYTEMNESTRA|\n",
      "|RAVEN, SABBATH II/EL|IRON MAN/TONY STARK |\n",
      "|RAVEN, SABBATH II/EL|IRON MAN IV/JAMES R.|\n",
      "|IRON MAN IV/JAMES R.|    FORTUNE, DOMINIC|\n",
      "|IRON MAN IV/JAMES R.| ERWIN, CLYTEMNESTRA|\n",
      "|IRON MAN IV/JAMES R.|IRON MAN/TONY STARK |\n",
      "|IRON MAN/TONY STARK |    FORTUNE, DOMINIC|\n",
      "|IRON MAN/TONY STARK | ERWIN, CLYTEMNESTRA|\n",
      "+--------------------+--------------------+\n",
      "only showing top 20 rows\n",
      "\n"
     ]
    }
   ],
   "source": []
  },
  {
   "cell_type": "code",
   "execution_count": 92,
   "id": "9d054cd5-35f3-4b19-ba01-5703ef0bd972",
   "metadata": {},
   "outputs": [
    {
     "name": "stdout",
     "output_type": "stream",
     "text": [
      "+--------------------+--------------------+\n",
      "|                hero|          connection|\n",
      "+--------------------+--------------------+\n",
      "|             ABCISSA|[ELSIE DEE, FURY,...|\n",
      "|             ABSALOM|[SHATTERSTAR II/G...|\n",
      "|ABSORBING MAN | MUTA|[DRAX | MUTANT X-...|\n",
      "|ABSORBING MAN/CARL C|[SOMMERS, APRIL, ...|\n",
      "|ADAMS, CONGRESSMAN H|[SPIDER-MAN/PETER...|\n",
      "| ADAMS, NICOLE NIKKI|[JUSTICE II/VANCE...|\n",
      "|    ADAMSON, REBECCA|[KABALLA, GOLEM I...|\n",
      "|               ADRIA|[DORMAMMU, ANCIEN...|\n",
      "|   ADVENT/KYLE GROBE|[JUSTICE II/VANCE...|\n",
      "|AGAMEMNON II/ANDREI |[BLACK WIDOW/NATA...|\n",
      "+--------------------+--------------------+\n",
      "only showing top 10 rows\n",
      "\n"
     ]
    }
   ],
   "source": [
    "data = df.groupBy(\"hero1\").agg(f.collect_set(\"hero2\").alias(\"connection\"))\\\n",
    "            .withColumnRenamed(\"hero1\", \"hero\")\n",
    "data.show(10)"
   ]
  },
  {
   "cell_type": "code",
   "execution_count": 93,
   "id": "bb9cb23d-a314-41f4-986a-6ff4ba9dc707",
   "metadata": {},
   "outputs": [
    {
     "name": "stdout",
     "output_type": "stream",
     "text": [
      "root\n",
      " |-- hero: string (nullable = true)\n",
      " |-- connection: array (nullable = false)\n",
      " |    |-- element: string (containsNull = false)\n",
      "\n"
     ]
    }
   ],
   "source": [
    "data.printSchema()"
   ]
  },
  {
   "cell_type": "code",
   "execution_count": null,
   "id": "73bf3817-5c89-485d-9895-96e84a878ebc",
   "metadata": {},
   "outputs": [],
   "source": [
    "data = data.withColumn('connection',f.concat_ws(',',f.col('connection')))"
   ]
  },
  {
   "cell_type": "code",
   "execution_count": 12,
   "id": "818c2ed4-e688-4233-b803-e6fdcf2b4204",
   "metadata": {},
   "outputs": [
    {
     "name": "stdout",
     "output_type": "stream",
     "text": [
      "+--------------------+--------------------+\n",
      "|                hero|          connection|\n",
      "+--------------------+--------------------+\n",
      "|             ABCISSA|ELSIE DEE,FURY, C...|\n",
      "|             ABSALOM|SHATTERSTAR II/GA...|\n",
      "|ABSORBING MAN | MUTA|DRAX | MUTANT X-V...|\n",
      "|ABSORBING MAN/CARL C|SOMMERS, APRIL,HE...|\n",
      "|ADAMS, CONGRESSMAN H|SPIDER-MAN/PETER ...|\n",
      "| ADAMS, NICOLE NIKKI|JUSTICE II/VANCE ...|\n",
      "|    ADAMSON, REBECCA|KABALLA,GOLEM III...|\n",
      "|               ADRIA|DORMAMMU,ANCIENT ...|\n",
      "|   ADVENT/KYLE GROBE|JUSTICE II/VANCE ...|\n",
      "|AGAMEMNON II/ANDREI |BLACK WIDOW/NATASHA |\n",
      "|      AGAMEMNON III/|ASTER, LUCIAN,HOG...|\n",
      "|            AGAMOTTO|SATANNISH,DORMAMM...|\n",
      "|             AGGAMON|DR. STRANGE/STEPHEN |\n",
      "|              AGINAR|SIF,REJECT/RAN-SA...|\n",
      "|                AGON|MARISTA,BLACK BOL...|\n",
      "|     AGUIRRE, ISOBEL|TERMINUS,HUMAN TO...|\n",
      "|               AINET|STORM/ORORO MUNRO...|\n",
      "|    AKUTAGAWA, OSAMU|HUMAN TORCH/JOHNN...|\n",
      "|ALDEN, PROF. MEREDIT|CABE, BETHANY,STO...|\n",
      "|              ALIOTH|LIBRA/GUSTAV BRAN...|\n",
      "+--------------------+--------------------+\n",
      "only showing top 20 rows\n",
      "\n"
     ]
    }
   ],
   "source": [
    "data.show()"
   ]
  },
  {
   "cell_type": "code",
   "execution_count": 15,
   "id": "4b9f1c3e-f3eb-4b45-b227-e4c30958b4f2",
   "metadata": {},
   "outputs": [],
   "source": [
    "data.coalesce(5).write.option(\"header\",True).csv('output')"
   ]
  },
  {
   "cell_type": "code",
   "execution_count": 17,
   "id": "aa6bbcaa-e4d1-475d-85eb-df3d528440b6",
   "metadata": {},
   "outputs": [],
   "source": [
    "csv_file_path = \"file:///home/jovyan/work/output\"\n",
    "df = spark.read.option('header','true').option('inferSchema','true').csv(csv_file_path)"
   ]
  },
  {
   "cell_type": "code",
   "execution_count": 19,
   "id": "820aa5f0-2b92-4888-a5cb-7ba50de4d431",
   "metadata": {},
   "outputs": [
    {
     "name": "stdout",
     "output_type": "stream",
     "text": [
      "+--------------------+--------------------+\n",
      "|                hero|          connection|\n",
      "+--------------------+--------------------+\n",
      "|        ABBOTT, JACK|OWL/LELAND OWLSLE...|\n",
      "|                ACBA|QUASAR III/WENDEL...|\n",
      "|ACHEBE, REVEREND DOC|COPYCAT/VANESSA,D...|\n",
      "|          ADAM 3,031|FROST, CARMILLA,S...|\n",
      "|              ADAM X|SABRETOOTH/VICTOR...|\n",
      "|               ADORA|DR. SUN,CAPTAIN M...|\n",
      "|           AFTERLIFE|                WONG|\n",
      "|       AGEE, REBECCA|DEATHBIRD [SHI'AR...|\n",
      "|AJAK/TECUMOTZIN [ETE|KA-ZAR/KEVIN PLUN...|\n",
      "|                AJAX|HOTSHOT/LOUIS,HOG...|\n",
      "|             AJES'HA|STERMAN, ANDREA A...|\n",
      "|               AKAFE|BLACK PANTHER/T'C...|\n",
      "|             ALBERIK|R'TEE,SINTARIIS,F...|\n",
      "|ALCHEMY/THOMAS JONES|BRIGHTWIND,FERON,...|\n",
      "|               ALPHA|HUMAN TORCH/JOHNN...|\n",
      "|      ALVAREZ, FELIX|GHOST,TIGRA/GREER...|\n",
      "|              AMAZON|IRONCLAD,STINGER ...|\n",
      "|AMERICAN EAGLE III/J|QUASAR III/WENDEL...|\n",
      "|AMPHIBIAN/KINGLEY RI|POWER PRINCESS/ZA...|\n",
      "|               ANAIS|SUMMERS, NATHAN C...|\n",
      "+--------------------+--------------------+\n",
      "only showing top 20 rows\n",
      "\n"
     ]
    }
   ],
   "source": [
    "df.show()"
   ]
  },
  {
   "cell_type": "code",
   "execution_count": 21,
   "id": "b0412f10-0149-4dac-94c0-adeb11947a91",
   "metadata": {},
   "outputs": [
    {
     "name": "stdout",
     "output_type": "stream",
     "text": [
      "+--------------------+--------------------+\n",
      "|                hero|          connection|\n",
      "+--------------------+--------------------+\n",
      "|        ABBOTT, JACK|OWL/LELAND OWLSLE...|\n",
      "|                ACBA|QUASAR III/WENDEL...|\n",
      "|ACHEBE, REVEREND DOC|COPYCAT/VANESSA,D...|\n",
      "|          ADAM 3,031|FROST, CARMILLA,S...|\n",
      "|              ADAM X|SABRETOOTH/VICTOR...|\n",
      "|               ADORA|DR. SUN,CAPTAIN M...|\n",
      "|           AFTERLIFE|                WONG|\n",
      "|       AGEE, REBECCA|DEATHBIRD [SHI'AR...|\n",
      "|AJAK/TECUMOTZIN [ETE|KA-ZAR/KEVIN PLUN...|\n",
      "|                AJAX|HOTSHOT/LOUIS,HOG...|\n",
      "|             AJES'HA|STERMAN, ANDREA A...|\n",
      "|               AKAFE|BLACK PANTHER/T'C...|\n",
      "|             ALBERIK|R'TEE,SINTARIIS,F...|\n",
      "|ALCHEMY/THOMAS JONES|BRIGHTWIND,FERON,...|\n",
      "|               ALPHA|HUMAN TORCH/JOHNN...|\n",
      "|      ALVAREZ, FELIX|GHOST,TIGRA/GREER...|\n",
      "|              AMAZON|IRONCLAD,STINGER ...|\n",
      "|AMERICAN EAGLE III/J|QUASAR III/WENDEL...|\n",
      "|AMPHIBIAN/KINGLEY RI|POWER PRINCESS/ZA...|\n",
      "|               ANAIS|SUMMERS, NATHAN C...|\n",
      "+--------------------+--------------------+\n",
      "only showing top 20 rows\n",
      "\n"
     ]
    }
   ],
   "source": [
    "df.show()"
   ]
  },
  {
   "cell_type": "code",
   "execution_count": 30,
   "id": "0ba2f0bf-3d5a-4276-b4ff-f84da7c0636f",
   "metadata": {},
   "outputs": [
    {
     "name": "stdout",
     "output_type": "stream",
     "text": [
      "+--------------------+--------------------+---------------+\n",
      "|                hero|          connection|connection_size|\n",
      "+--------------------+--------------------+---------------+\n",
      "|     CAPTAIN AMERICA|URICH, DORIS,ARMA...|           1795|\n",
      "|SPIDER-MAN/PETER PAR|RED SHIFT,GAMELIN...|           1737|\n",
      "| IRON MAN/TONY STARK|RED SHIFT,SABRETO...|           1443|\n",
      "|     WOLVERINE/LOGAN|SABRETOOTH/VICTOR...|           1278|\n",
      "|THING/BENJAMIN J. GR|CHORD, ANDREW,CAT...|           1262|\n",
      "| SCARLET WITCH/WANDA|SABRETOOTH/VICTOR...|           1246|\n",
      "|HUMAN TORCH/JOHNNY S|CAT KING,BUZZ,MAK...|           1202|\n",
      "|MR. FANTASTIC/REED R|ARMADILLO/ANTONIO...|           1200|\n",
      "|THOR/DR. DONALD BLAK|PARKER, MAY | TIM...|           1183|\n",
      "| INVISIBLE WOMAN/SUE|CAPTAIN MARVEL II...|           1143|\n",
      "|BEAST/HENRY &HANK& P|AMERICAN EAGLE II...|           1140|\n",
      "|              VISION|PHOSPHORUS,AMERIC...|           1110|\n",
      "|                HAWK|AMERICAN EAGLE II...|           1086|\n",
      "|CYCLOPS/SCOTT SUMMER|SABRETOOTH/VICTOR...|           1004|\n",
      "|HULK/DR. ROBERT BRUC|SABRETOOTH/VICTOR...|            978|\n",
      "|ANT-MAN/DR. HENRY J.|DEVEREAUX, MICHEL...|            953|\n",
      "|STORM/ORORO MUNROE S|SABRETOOTH/VICTOR...|            952|\n",
      "| DR. STRANGE/STEPHEN|AMERICAN EAGLE II...|            946|\n",
      "|COLOSSUS II/PETER RA|SABRETOOTH/VICTOR...|            944|\n",
      "| PROFESSOR X/CHARLES|SABRETOOTH/VICTOR...|            940|\n",
      "+--------------------+--------------------+---------------+\n",
      "only showing top 20 rows\n",
      "\n"
     ]
    }
   ],
   "source": [
    "\n",
    "df.withColumn('connection_size',f.size(f.split(f.col('connection'),','))).orderBy(f.desc('connection_size')).show()"
   ]
  },
  {
   "cell_type": "code",
   "execution_count": 71,
   "id": "21730e76-a69b-44fe-9130-4468a2c7007d",
   "metadata": {},
   "outputs": [],
   "source": [
    "path = 'file:///home/jovyan/work/sample/hero-network.csv'"
   ]
  },
  {
   "cell_type": "code",
   "execution_count": 72,
   "id": "e80708b7-d32d-4866-a681-ae5c1871f697",
   "metadata": {},
   "outputs": [],
   "source": [
    "from pyspark.sql import SparkSession, functions as f , types as t"
   ]
  },
  {
   "cell_type": "code",
   "execution_count": 73,
   "id": "9d95ac42-0525-4f34-af5c-5dd486526d9c",
   "metadata": {},
   "outputs": [],
   "source": [
    "spark = SparkSession.builder.appName('ee').getOrCreate()"
   ]
  },
  {
   "cell_type": "code",
   "execution_count": 74,
   "id": "5a27afb1-e4ba-4446-952b-0004761ffbe3",
   "metadata": {},
   "outputs": [],
   "source": [
    "df = spark.read.option('inferSchema','true').option('header','true').csv(path)"
   ]
  },
  {
   "cell_type": "code",
   "execution_count": 75,
   "id": "4f586c1c-9de5-4bc3-8206-c03f0bd40940",
   "metadata": {},
   "outputs": [
    {
     "name": "stdout",
     "output_type": "stream",
     "text": [
      "+--------------------+--------------------+\n",
      "|               hero1|               hero2|\n",
      "+--------------------+--------------------+\n",
      "|       LITTLE, ABNER|      PRINCESS ZANDA|\n",
      "|       LITTLE, ABNER|BLACK PANTHER/T'CHAL|\n",
      "|BLACK PANTHER/T'CHAL|      PRINCESS ZANDA|\n",
      "|       LITTLE, ABNER|      PRINCESS ZANDA|\n",
      "|       LITTLE, ABNER|BLACK PANTHER/T'CHAL|\n",
      "|BLACK PANTHER/T'CHAL|      PRINCESS ZANDA|\n",
      "|STEELE, SIMON/WOLFGA|    FORTUNE, DOMINIC|\n",
      "|STEELE, SIMON/WOLFGA| ERWIN, CLYTEMNESTRA|\n",
      "|STEELE, SIMON/WOLFGA|IRON MAN/TONY STARK |\n",
      "|STEELE, SIMON/WOLFGA|IRON MAN IV/JAMES R.|\n",
      "|STEELE, SIMON/WOLFGA|RAVEN, SABBATH II/EL|\n",
      "|RAVEN, SABBATH II/EL|    FORTUNE, DOMINIC|\n",
      "|RAVEN, SABBATH II/EL| ERWIN, CLYTEMNESTRA|\n",
      "|RAVEN, SABBATH II/EL|IRON MAN/TONY STARK |\n",
      "|RAVEN, SABBATH II/EL|IRON MAN IV/JAMES R.|\n",
      "|IRON MAN IV/JAMES R.|    FORTUNE, DOMINIC|\n",
      "|IRON MAN IV/JAMES R.| ERWIN, CLYTEMNESTRA|\n",
      "|IRON MAN IV/JAMES R.|IRON MAN/TONY STARK |\n",
      "|IRON MAN/TONY STARK |    FORTUNE, DOMINIC|\n",
      "|IRON MAN/TONY STARK | ERWIN, CLYTEMNESTRA|\n",
      "+--------------------+--------------------+\n",
      "only showing top 20 rows\n",
      "\n"
     ]
    }
   ],
   "source": [
    "df.show(20)"
   ]
  },
  {
   "cell_type": "code",
   "execution_count": 76,
   "id": "a418349a-2aed-40d9-9f1b-ddfc713b489a",
   "metadata": {},
   "outputs": [],
   "source": [
    "data = df.groupBy('hero1').agg(f.collect_set('hero2').alias('connection'))\\\n",
    ".withColumnRenamed('hero1','hero')"
   ]
  },
  {
   "cell_type": "code",
   "execution_count": 79,
   "id": "8d15e7db-a154-43ab-8c05-456752bc4657",
   "metadata": {},
   "outputs": [],
   "source": [
    "data = data.withColumn(\"connection\", f.concat_ws(\",\", f.col(\"connection\")))"
   ]
  },
  {
   "cell_type": "code",
   "execution_count": 106,
   "id": "72acd916-b5b7-4664-a87b-bfa49fc01289",
   "metadata": {},
   "outputs": [
    {
     "name": "stdout",
     "output_type": "stream",
     "text": [
      "+--------------------+--------------------+\n",
      "|                hero|          connection|\n",
      "+--------------------+--------------------+\n",
      "|             ABCISSA|ELSIE DEE,FURY, C...|\n",
      "|             ABSALOM|SHATTERSTAR II/GA...|\n",
      "|ABSORBING MAN | MUTA|DRAX | MUTANT X-V...|\n",
      "|ABSORBING MAN/CARL C|SOMMERS, APRIL,HE...|\n",
      "|ADAMS, CONGRESSMAN H|SPIDER-MAN/PETER ...|\n",
      "| ADAMS, NICOLE NIKKI|JUSTICE II/VANCE ...|\n",
      "|    ADAMSON, REBECCA|KABALLA,GOLEM III...|\n",
      "|               ADRIA|DORMAMMU,ANCIENT ...|\n",
      "|   ADVENT/KYLE GROBE|JUSTICE II/VANCE ...|\n",
      "|AGAMEMNON II/ANDREI |BLACK WIDOW/NATASHA |\n",
      "+--------------------+--------------------+\n",
      "only showing top 10 rows\n",
      "\n"
     ]
    }
   ],
   "source": [
    "data.show(10)"
   ]
  },
  {
   "cell_type": "code",
   "execution_count": 96,
   "id": "e5507f74-cc72-4059-a151-0a43e4fe7063",
   "metadata": {},
   "outputs": [],
   "source": [
    "data = data.withColumn('connection',f.concat_ws(',',f.col('connection')))"
   ]
  },
  {
   "cell_type": "code",
   "execution_count": 104,
   "id": "410ac150-b603-49b4-a36e-900d59c5bbaa",
   "metadata": {},
   "outputs": [
    {
     "name": "stdout",
     "output_type": "stream",
     "text": [
      "+--------------------+--------------------+---------------+\n",
      "|                hero|          connection|connection_size|\n",
      "+--------------------+--------------------+---------------+\n",
      "|     CAPTAIN AMERICA|URICH, DORIS,ARMA...|           1795|\n",
      "|SPIDER-MAN/PETER PAR|RED SHIFT,GAMELIN...|           1737|\n",
      "|IRON MAN/TONY STARK |RED SHIFT,SABRETO...|           1443|\n",
      "|    WOLVERINE/LOGAN |SABRETOOTH/VICTOR...|           1278|\n",
      "|THING/BENJAMIN J. GR|CHORD, ANDREW,CAT...|           1262|\n",
      "|SCARLET WITCH/WANDA |SABRETOOTH/VICTOR...|           1246|\n",
      "|HUMAN TORCH/JOHNNY S|CAT KING,BUZZ,MAK...|           1202|\n",
      "|MR. FANTASTIC/REED R|ARMADILLO/ANTONIO...|           1200|\n",
      "|THOR/DR. DONALD BLAK|PARKER, MAY | TIM...|           1183|\n",
      "|INVISIBLE WOMAN/SUE |CAPTAIN MARVEL II...|           1143|\n",
      "|BEAST/HENRY &HANK& P|AMERICAN EAGLE II...|           1140|\n",
      "|             VISION |PHOSPHORUS,AMERIC...|           1110|\n",
      "|                HAWK|AMERICAN EAGLE II...|           1086|\n",
      "|CYCLOPS/SCOTT SUMMER|SABRETOOTH/VICTOR...|           1004|\n",
      "|HULK/DR. ROBERT BRUC|SABRETOOTH/VICTOR...|            978|\n",
      "|ANT-MAN/DR. HENRY J.|DEVEREAUX, MICHEL...|            953|\n",
      "|STORM/ORORO MUNROE S|SABRETOOTH/VICTOR...|            952|\n",
      "|DR. STRANGE/STEPHEN |AMERICAN EAGLE II...|            946|\n",
      "|COLOSSUS II/PETER RA|SABRETOOTH/VICTOR...|            944|\n",
      "|PROFESSOR X/CHARLES |SABRETOOTH/VICTOR...|            940|\n",
      "+--------------------+--------------------+---------------+\n",
      "only showing top 20 rows\n",
      "\n"
     ]
    }
   ],
   "source": [
    "data.withColumn('connection_size',f.size(f.split(f.col('connection'),','))).orderBy(f.desc('connection_size')).show()"
   ]
  },
  {
   "cell_type": "code",
   "execution_count": 109,
   "id": "018c38cc-f936-401f-bd85-08d7d7f16303",
   "metadata": {},
   "outputs": [
    {
     "name": "stdout",
     "output_type": "stream",
     "text": [
      "+--------------------+--------------------+---------------+\n",
      "|                hero|          connection|connection_size|\n",
      "+--------------------+--------------------+---------------+\n",
      "|     CAPTAIN AMERICA|URICH, DORIS,ARMA...|           1795|\n",
      "|SPIDER-MAN/PETER PAR|RED SHIFT,GAMELIN...|           1737|\n",
      "|IRON MAN/TONY STARK |RED SHIFT,SABRETO...|           1443|\n",
      "|    WOLVERINE/LOGAN |SABRETOOTH/VICTOR...|           1278|\n",
      "|THING/BENJAMIN J. GR|CHORD, ANDREW,CAT...|           1262|\n",
      "|SCARLET WITCH/WANDA |SABRETOOTH/VICTOR...|           1246|\n",
      "|HUMAN TORCH/JOHNNY S|CAT KING,BUZZ,MAK...|           1202|\n",
      "|MR. FANTASTIC/REED R|ARMADILLO/ANTONIO...|           1200|\n",
      "|THOR/DR. DONALD BLAK|PARKER, MAY | TIM...|           1183|\n",
      "|INVISIBLE WOMAN/SUE |CAPTAIN MARVEL II...|           1143|\n",
      "+--------------------+--------------------+---------------+\n",
      "only showing top 10 rows\n",
      "\n"
     ]
    }
   ],
   "source": [
    "data.withColumn('connection_size',f.size(f.split(f.col('connection'),','))).orderBy(f.desc('connection_size')).show(10)"
   ]
  },
  {
   "cell_type": "code",
   "execution_count": 111,
   "id": "399bf5a3-6dc7-472a-b15e-d1e61d42485b",
   "metadata": {},
   "outputs": [
    {
     "name": "stdout",
     "output_type": "stream",
     "text": [
      "+----+----------+------+\n",
      "|  id|occupation|salary|\n",
      "+----+----------+------+\n",
      "|1000|  engineer|100000|\n",
      "|2000|      NULL|  NULL|\n",
      "|3000|      NULL| 50000|\n",
      "|4000|   teacher| 80000|\n",
      "|5000|    banker|120000|\n",
      "+----+----------+------+\n",
      "\n"
     ]
    }
   ],
   "source": [
    "spark = SparkSession.builder.appName(\"df_missing_data\").getOrCreate()\n",
    "df = spark.read.csv(\n",
    "    \"file:///home/jovyan/work/sample/null_data.csv\", header=True, inferSchema=True)\n",
    "df.show()"
   ]
  },
  {
   "cell_type": "code",
   "execution_count": 112,
   "id": "d2c8b9a8-780a-4bbe-8754-af3b6b37f727",
   "metadata": {},
   "outputs": [
    {
     "name": "stdout",
     "output_type": "stream",
     "text": [
      "+----+----------+------+\n",
      "|  id|occupation|salary|\n",
      "+----+----------+------+\n",
      "|1000|  engineer|100000|\n",
      "|4000|   teacher| 80000|\n",
      "|5000|    banker|120000|\n",
      "+----+----------+------+\n",
      "\n"
     ]
    }
   ],
   "source": [
    "df.na.drop().show()"
   ]
  },
  {
   "cell_type": "code",
   "execution_count": 113,
   "id": "a62027cc-5399-4ab4-a882-6984367f4c01",
   "metadata": {},
   "outputs": [
    {
     "name": "stdout",
     "output_type": "stream",
     "text": [
      "+----+----------+------+\n",
      "|  id|occupation|salary|\n",
      "+----+----------+------+\n",
      "|1000|  engineer|100000|\n",
      "|3000|      NULL| 50000|\n",
      "|4000|   teacher| 80000|\n",
      "|5000|    banker|120000|\n",
      "+----+----------+------+\n",
      "\n"
     ]
    }
   ],
   "source": [
    "df.na.drop(thresh=2).show()"
   ]
  },
  {
   "cell_type": "code",
   "execution_count": 117,
   "id": "a0af6ce7-6770-437e-8680-a07a6bb0ad21",
   "metadata": {},
   "outputs": [
    {
     "data": {
      "text/plain": [
       "87500.0"
      ]
     },
     "execution_count": 117,
     "metadata": {},
     "output_type": "execute_result"
    }
   ],
   "source": [
    "df.select(f.mean('salary')).collect()[0][0]"
   ]
  },
  {
   "cell_type": "code",
   "execution_count": 118,
   "id": "9174a4fc-d2e2-47b9-a62c-6979b6168695",
   "metadata": {},
   "outputs": [
    {
     "name": "stdout",
     "output_type": "stream",
     "text": [
      "+----+----------+------+\n",
      "|  id|occupation|salary|\n",
      "+----+----------+------+\n",
      "|1000|  engineer|100000|\n",
      "|2000|      NULL|  NULL|\n",
      "|3000|      NULL| 50000|\n",
      "|4000|   teacher| 80000|\n",
      "|5000|    banker|120000|\n",
      "+----+----------+------+\n",
      "\n"
     ]
    }
   ],
   "source": [
    "df.show()"
   ]
  },
  {
   "cell_type": "code",
   "execution_count": 120,
   "id": "31e1c2a0-7b1e-468b-8baa-bd2a3e194a72",
   "metadata": {},
   "outputs": [
    {
     "name": "stdout",
     "output_type": "stream",
     "text": [
      "+----+----------+------+\n",
      "|  id|occupation|salary|\n",
      "+----+----------+------+\n",
      "|1000|  engineer|100000|\n",
      "|2000|      NULL| 87500|\n",
      "|3000|      NULL| 50000|\n",
      "|4000|   teacher| 80000|\n",
      "|5000|    banker|120000|\n",
      "+----+----------+------+\n",
      "\n"
     ]
    }
   ],
   "source": [
    "df.na.fill(df.select(f.mean('salary')).collect()[0][0], subset=['salary']).show()"
   ]
  },
  {
   "cell_type": "code",
   "execution_count": 121,
   "id": "4e91c219-97d8-4b61-b06d-b057044a539f",
   "metadata": {},
   "outputs": [],
   "source": [
    "spark = SparkSession.builder.appName(\"df_manage_date\").getOrCreate()\n",
    "df = spark.read.csv(\n",
    "    \"file:///home/jovyan/work/sample/date_parsing.csv\", header=True, inferSchema=True)\n"
   ]
  },
  {
   "cell_type": "code",
   "execution_count": 122,
   "id": "2e13ccee-abcc-4d68-8600-8368b21a0c9a",
   "metadata": {},
   "outputs": [
    {
     "name": "stdout",
     "output_type": "stream",
     "text": [
      "+----------+------+\n",
      "|      date|number|\n",
      "+----------+------+\n",
      "|2022-01-27|  2723|\n",
      "|2021-12-29|  1460|\n",
      "|2022-01-22|  3411|\n",
      "|2022-01-06|  1527|\n",
      "|2022-04-21|  3978|\n",
      "|2022-10-23|  3443|\n",
      "|2021-12-23|  1641|\n",
      "|2022-05-31|  1633|\n",
      "|2021-12-29|  1072|\n",
      "|2021-12-30|  2936|\n",
      "|2022-05-04|  2494|\n",
      "|2022-06-22|  2019|\n",
      "|2022-04-23|  3804|\n",
      "|2022-08-04|  1619|\n",
      "|2022-01-26|  1306|\n",
      "|2022-09-23|  3918|\n",
      "|2022-05-27|  3209|\n",
      "|2022-09-20|  2333|\n",
      "|2022-07-05|  1861|\n",
      "|2022-07-18|  3404|\n",
      "+----------+------+\n",
      "only showing top 20 rows\n",
      "\n"
     ]
    }
   ],
   "source": [
    "df.,"
   ]
  },
  {
   "cell_type": "code",
   "execution_count": 137,
   "id": "26d27285-1ab8-47d1-a974-ed54fb04c73e",
   "metadata": {},
   "outputs": [
    {
     "name": "stdout",
     "output_type": "stream",
     "text": [
      "+----+--------+\n",
      "|year|     avg|\n",
      "+----+--------+\n",
      "|2021|2,195.68|\n",
      "|2022|2,540.67|\n",
      "+----+--------+\n",
      "\n"
     ]
    }
   ],
   "source": [
    "df.withColumn('year',f.year('date')).groupBy('year').agg(f.format_number(f.mean('number'),2).alias('avg')).orderBy('year').show()"
   ]
  },
  {
   "cell_type": "code",
   "execution_count": 145,
   "id": "42874d5e-043c-4ae5-b868-7dc031fefb59",
   "metadata": {},
   "outputs": [
    {
     "name": "stdout",
     "output_type": "stream",
     "text": [
      "+----+-------------+--------+\n",
      "|  id|         name| company|\n",
      "+----+-------------+--------+\n",
      "|1000|Neville Hardy|   Apple|\n",
      "|2000|  Dacia Cohen|Alphabet|\n",
      "|3000|    Elois Cox|  Neflix|\n",
      "|4000| Junita Meyer|    Meta|\n",
      "|5000| Cleora Banks|  Amazon|\n",
      "+----+-------------+--------+\n",
      "\n",
      "+----+------+--------------+\n",
      "|  id|salary|    department|\n",
      "+----+------+--------------+\n",
      "|1000|150000|      engineer|\n",
      "|2000|240000|       manager|\n",
      "|3000|120000|human resource|\n",
      "|6000|100000|         sales|\n",
      "+----+------+--------------+\n",
      "\n"
     ]
    }
   ],
   "source": [
    "from pyspark.sql import (\n",
    "    functions as f,\n",
    "    SparkSession,\n",
    "    types as t\n",
    ")\n",
    "\n",
    "spark = SparkSession.builder.appName(\"df_join\").getOrCreate()\n",
    "\n",
    "# user data\n",
    "user_data = [\n",
    "    [\"1000\", \"Neville Hardy\", \"Apple\"],\n",
    "    [\"2000\", \"Dacia Cohen\", \"Alphabet\"],\n",
    "    [\"3000\", \"Elois Cox\", \"Neflix\"],\n",
    "    [\"4000\", \"Junita Meyer\", \"Meta\"],\n",
    "    [\"5000\", \"Cleora Banks\", \"Amazon\"]]\n",
    "\n",
    "user_col = ['id', 'name', 'company']\n",
    "df_user = spark.createDataFrame(data=user_data, schema=user_col)\n",
    "df_user.show()\n",
    "\n",
    "# salary data\n",
    "salary_data = [\n",
    "    [\"1000\", \"150000\", \"engineer\"],\n",
    "    [\"2000\", \"240000\", \"manager\"],\n",
    "    [\"3000\", \"120000\", \"human resource\"],\n",
    "    [\"6000\", \"100000\", \"sales\"]]\n",
    "\n",
    "salary_col = ['id', 'salary', 'department']\n",
    "df_salary = spark.createDataFrame(data=salary_data, schema=salary_col)\n",
    "df_salary.show()\n"
   ]
  },
  {
   "cell_type": "code",
   "execution_count": 146,
   "id": "cbd348b0-273f-4645-83c1-0c929c8ac29a",
   "metadata": {},
   "outputs": [
    {
     "name": "stdout",
     "output_type": "stream",
     "text": [
      "+----+-------------+--------+\n",
      "|  id|         name| company|\n",
      "+----+-------------+--------+\n",
      "|1000|Neville Hardy|   Apple|\n",
      "|2000|  Dacia Cohen|Alphabet|\n",
      "|3000|    Elois Cox|  Neflix|\n",
      "|4000| Junita Meyer|    Meta|\n",
      "|5000| Cleora Banks|  Amazon|\n",
      "+----+-------------+--------+\n",
      "\n",
      "+----+------+--------------+\n",
      "|  id|salary|    department|\n",
      "+----+------+--------------+\n",
      "|1000|150000|      engineer|\n",
      "|2000|240000|       manager|\n",
      "|3000|120000|human resource|\n",
      "|6000|100000|         sales|\n",
      "+----+------+--------------+\n",
      "\n"
     ]
    }
   ],
   "source": [
    "df_user.show()\n",
    "df_salary.show()"
   ]
  },
  {
   "cell_type": "code",
   "execution_count": 154,
   "id": "2ecedc1c-ac1c-4df5-a402-e8eef194fbad",
   "metadata": {},
   "outputs": [],
   "source": [
    "df1 = df_user\n",
    "df2 = df_salary"
   ]
  },
  {
   "cell_type": "code",
   "execution_count": 155,
   "id": "60cefff3-eb31-49d9-97bb-edb141c7dde8",
   "metadata": {},
   "outputs": [
    {
     "name": "stdout",
     "output_type": "stream",
     "text": [
      "+----+-------------+--------+----+------+--------------+\n",
      "|  id|         name| company|  id|salary|    department|\n",
      "+----+-------------+--------+----+------+--------------+\n",
      "|1000|Neville Hardy|   Apple|1000|150000|      engineer|\n",
      "|2000|  Dacia Cohen|Alphabet|2000|240000|       manager|\n",
      "|3000|    Elois Cox|  Neflix|3000|120000|human resource|\n",
      "|4000| Junita Meyer|    Meta|NULL|  NULL|          NULL|\n",
      "|5000| Cleora Banks|  Amazon|NULL|  NULL|          NULL|\n",
      "+----+-------------+--------+----+------+--------------+\n",
      "\n"
     ]
    }
   ],
   "source": [
    "df1.join(df2, df1.id ==df2.id , 'left').show()"
   ]
  },
  {
   "cell_type": "code",
   "execution_count": 156,
   "id": "795fda6e-d2ea-4d90-a3ca-2876df182639",
   "metadata": {},
   "outputs": [],
   "source": [
    "df1.createOrReplaceTempView('df1')\n",
    "df2.createOrReplaceTempView('df2')"
   ]
  },
  {
   "cell_type": "code",
   "execution_count": 166,
   "id": "795d2374-f415-4b90-ae17-80f95e43c966",
   "metadata": {},
   "outputs": [
    {
     "name": "stdout",
     "output_type": "stream",
     "text": [
      "+----+-------------+--------+------------------------+\n",
      "|  id|         name| company|nvl(department, manager)|\n",
      "+----+-------------+--------+------------------------+\n",
      "|1000|Neville Hardy|   Apple|                engineer|\n",
      "|2000|  Dacia Cohen|Alphabet|                 manager|\n",
      "|3000|    Elois Cox|  Neflix|          human resource|\n",
      "|4000| Junita Meyer|    Meta|                 manager|\n",
      "|5000| Cleora Banks|  Amazon|                 manager|\n",
      "+----+-------------+--------+------------------------+\n",
      "\n"
     ]
    }
   ],
   "source": [
    "spark.sql('select a.id, a.name , company, nvl(department,\"manager\") \\\n",
    "    from df1 a \\\n",
    "    left outer join df2 b \\\n",
    "    on a.id = b.id '\n",
    "         ).show()"
   ]
  },
  {
   "cell_type": "code",
   "execution_count": 167,
   "id": "0ad53d4a-fb88-4e2f-879d-5837ad7818e1",
   "metadata": {},
   "outputs": [
    {
     "name": "stdout",
     "output_type": "stream",
     "text": [
      "+----+-------------+-------+----+------+----------+\n",
      "|  id|         name|company|  id|salary|department|\n",
      "+----+-------------+-------+----+------+----------+\n",
      "|1000|Neville Hardy|  Apple|1000|150000|  engineer|\n",
      "+----+-------------+-------+----+------+----------+\n",
      "\n"
     ]
    }
   ],
   "source": [
    "df_user.join(df_salary,(df_user.id == df_salary.id) & (df_user.id == 1000)).show()"
   ]
  },
  {
   "cell_type": "code",
   "execution_count": 168,
   "id": "6badada7-d8ec-4543-b246-6a54bfd8ddd3",
   "metadata": {},
   "outputs": [
    {
     "name": "stdout",
     "output_type": "stream",
     "text": [
      "+----+-------------+--------+----+------+--------------+\n",
      "|  id|         name| company|  id|salary|    department|\n",
      "+----+-------------+--------+----+------+--------------+\n",
      "|1000|Neville Hardy|   Apple|1000|150000|      engineer|\n",
      "|2000|  Dacia Cohen|Alphabet|2000|240000|       manager|\n",
      "|3000|    Elois Cox|  Neflix|3000|120000|human resource|\n",
      "+----+-------------+--------+----+------+--------------+\n",
      "\n"
     ]
    }
   ],
   "source": [
    "df_user.join(df_salary,df_user.id == df_salary.id).show()"
   ]
  },
  {
   "cell_type": "code",
   "execution_count": 169,
   "id": "71af9220-fb7c-4496-a3b1-f39d9931c6f4",
   "metadata": {},
   "outputs": [
    {
     "name": "stdout",
     "output_type": "stream",
     "text": [
      "+----+-------------+-------+----+------+----------+\n",
      "|  id|         name|company|  id|salary|department|\n",
      "+----+-------------+-------+----+------+----------+\n",
      "|1000|Neville Hardy|  Apple|1000|150000|  engineer|\n",
      "+----+-------------+-------+----+------+----------+\n",
      "\n"
     ]
    }
   ],
   "source": [
    "df_user.join(df_salary,df_user.id == df_salary.id).where(df_user.id ==1000).show()"
   ]
  },
  {
   "cell_type": "code",
   "execution_count": null,
   "id": "f0126cb1-15db-4598-8a85-ac2f5734c028",
   "metadata": {},
   "outputs": [],
   "source": []
  }
 ],
 "metadata": {
  "kernelspec": {
   "display_name": "Python 3 (ipykernel)",
   "language": "python",
   "name": "python3"
  },
  "language_info": {
   "codemirror_mode": {
    "name": "ipython",
    "version": 3
   },
   "file_extension": ".py",
   "mimetype": "text/x-python",
   "name": "python",
   "nbconvert_exporter": "python",
   "pygments_lexer": "ipython3",
   "version": "3.11.6"
  }
 },
 "nbformat": 4,
 "nbformat_minor": 5
}
