{
 "cells": [
  {
   "cell_type": "code",
   "execution_count": null,
   "id": "edc48e0c-b0f3-48ed-b977-0e3351a4cbae",
   "metadata": {},
   "outputs": [],
   "source": [
    "from pyspark.sql import (\n",
    "    functions as f,\n",
    "    SparkSession,\n",
    "    types as t\n",
    ")\n",
    "\n",
    "# Attribution 3.0 Unported (CC BY 3.0)\n",
    "# https://www.kaggle.com/datasets/csanhueza/the-marvel-universe-social-network\n",
    "\n",
    "spark = SparkSession.builder.appName(\"df_most_popular\").getOrCreate()\n",
    "csv_file_path = \"file:///home/jovyan/work/sample/hero-network.csv\"\n",
    "# read file\n",
    "df = spark.read\\\n",
    "            .option(\"header\", \"true\")\\\n",
    "            .option(\"inferSchema\", \"true\").csv(csv_file_path)\n",
    "\n",
    "# pyspark.sql.functions.collect_set(col): Aggregate function: returns a set of objects with duplicate elements eliminated.\n",
    "data = df.groupBy(\"hero1\")\\\n",
    "            .agg(\n",
    "                f.collect_set(\"hero2\").alias(\"connection\"))\\\n",
    "            .withColumnRenamed(\"hero1\", \"hero\")\n",
    "# data.show()\n",
    "# pyspark.sql.functions.concat_ws(sep, *cols): Concatenates multiple input string columns together into a single string column, using the given separator.\n",
    "data = data.withColumn(\"connection\", f.concat_ws(\",\", f.col(\"connection\")))\n",
    "data.show()\n",
    "\n",
    "# DataFrame.coalesce(numPartitions): Returns a new DataFrame that has exactly numPartitions partitions.\n",
    "data.coalesce(1).write.option(\"header\", True).csv(\"output\")\n",
    "\n",
    "# load the file\n",
    "csv_file_path = \"file:///home/jovyan/work/output\"\n",
    "df = spark.read\\\n",
    "            .option(\"header\", \"true\")\\\n",
    "            .option(\"inferSchema\", \"true\")\\\n",
    "            .csv(csv_file_path)\n",
    "# df.show()\n",
    "\n",
    "# pyspark.sql.functions.size(col): Collection function: returns the length of the array or map stored in the column.\n",
    "df = df.withColumn(\n",
    "        \"connection_size\",\n",
    "        f.size(\n",
    "            f.split(f.col(\"connection\"), \",\")))\\\n",
    "        .orderBy(f.desc(\"connection_size\"))\n",
    "df.show()\n",
    "\n",
    "most_popular_hero = df.select(\"hero\").first()\n",
    "print(most_popular_hero.hero)"
   ]
  }
 ],
 "metadata": {
  "kernelspec": {
   "display_name": "Python 3 (ipykernel)",
   "language": "python",
   "name": "python3"
  },
  "language_info": {
   "codemirror_mode": {
    "name": "ipython",
    "version": 3
   },
   "file_extension": ".py",
   "mimetype": "text/x-python",
   "name": "python",
   "nbconvert_exporter": "python",
   "pygments_lexer": "ipython3",
   "version": "3.11.6"
  }
 },
 "nbformat": 4,
 "nbformat_minor": 5
}
